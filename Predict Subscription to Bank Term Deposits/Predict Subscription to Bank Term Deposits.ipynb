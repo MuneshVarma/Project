{
 "cells": [
  {
   "cell_type": "code",
   "execution_count": 1,
   "metadata": {},
   "outputs": [],
   "source": [
    "# importing libraries\n",
    "import pandas as pd\n",
    "import numpy as np\n",
    "import matplotlib.pyplot as plt\n",
    "import seaborn as sns\n",
    "from sklearn.preprocessing import StandardScaler,MinMaxScaler\n",
    "import statsmodels.api as sm\n",
    "import sklearn.linear_model as Logit\n",
    "from sklearn.ensemble import RandomForestClassifier,AdaBoostClassifier\n",
    "from sklearn.tree import DecisionTreeClassifier\n",
    "from sklearn import svm,neighbors\n",
    "from sklearn.metrics import classification_report,confusion_matrix,accuracy_score,f1_score,roc_curve,auc,precision_score,recall_score,cohen_kappa_score\n",
    "from sklearn.model_selection import train_test_split,cross_val_score,GridSearchCV\n",
    "from scipy import stats\n",
    "import warnings\n",
    "warnings.filterwarnings('ignore')"
   ]
  },
  {
   "cell_type": "code",
   "execution_count": 2,
   "metadata": {},
   "outputs": [
    {
     "data": {
      "text/plain": [
       "(41188, 21)"
      ]
     },
     "execution_count": 2,
     "metadata": {},
     "output_type": "execute_result"
    }
   ],
   "source": [
    "# importing data\n",
    "path='F:/Munesh Backup/Munesh/Imarticus/Exam/Paper 1/Datasets/bank.csv'\n",
    "bank=pd.read_csv(path,delimiter=';')\n",
    "# checking shape of data\n",
    "bank.shape"
   ]
  },
  {
   "cell_type": "code",
   "execution_count": 3,
   "metadata": {},
   "outputs": [
    {
     "data": {
      "text/html": [
       "<div>\n",
       "<style scoped>\n",
       "    .dataframe tbody tr th:only-of-type {\n",
       "        vertical-align: middle;\n",
       "    }\n",
       "\n",
       "    .dataframe tbody tr th {\n",
       "        vertical-align: top;\n",
       "    }\n",
       "\n",
       "    .dataframe thead th {\n",
       "        text-align: right;\n",
       "    }\n",
       "</style>\n",
       "<table border=\"1\" class=\"dataframe\">\n",
       "  <thead>\n",
       "    <tr style=\"text-align: right;\">\n",
       "      <th></th>\n",
       "      <th>age</th>\n",
       "      <th>job</th>\n",
       "      <th>marital</th>\n",
       "      <th>education</th>\n",
       "      <th>default</th>\n",
       "      <th>housing</th>\n",
       "      <th>loan</th>\n",
       "      <th>contact</th>\n",
       "      <th>month</th>\n",
       "      <th>day_of_week</th>\n",
       "      <th>...</th>\n",
       "      <th>campaign</th>\n",
       "      <th>pdays</th>\n",
       "      <th>previous</th>\n",
       "      <th>poutcome</th>\n",
       "      <th>emp.var.rate</th>\n",
       "      <th>cons.price.idx</th>\n",
       "      <th>cons.conf.idx</th>\n",
       "      <th>euribor3m</th>\n",
       "      <th>nr.employed</th>\n",
       "      <th>y</th>\n",
       "    </tr>\n",
       "  </thead>\n",
       "  <tbody>\n",
       "    <tr>\n",
       "      <th>0</th>\n",
       "      <td>56</td>\n",
       "      <td>housemaid</td>\n",
       "      <td>married</td>\n",
       "      <td>basic.4y</td>\n",
       "      <td>no</td>\n",
       "      <td>no</td>\n",
       "      <td>no</td>\n",
       "      <td>telephone</td>\n",
       "      <td>may</td>\n",
       "      <td>mon</td>\n",
       "      <td>...</td>\n",
       "      <td>1</td>\n",
       "      <td>999</td>\n",
       "      <td>0</td>\n",
       "      <td>nonexistent</td>\n",
       "      <td>1.1</td>\n",
       "      <td>93.994</td>\n",
       "      <td>-36.4</td>\n",
       "      <td>4.857</td>\n",
       "      <td>5191.0</td>\n",
       "      <td>no</td>\n",
       "    </tr>\n",
       "    <tr>\n",
       "      <th>1</th>\n",
       "      <td>57</td>\n",
       "      <td>services</td>\n",
       "      <td>married</td>\n",
       "      <td>high.school</td>\n",
       "      <td>unknown</td>\n",
       "      <td>no</td>\n",
       "      <td>no</td>\n",
       "      <td>telephone</td>\n",
       "      <td>may</td>\n",
       "      <td>mon</td>\n",
       "      <td>...</td>\n",
       "      <td>1</td>\n",
       "      <td>999</td>\n",
       "      <td>0</td>\n",
       "      <td>nonexistent</td>\n",
       "      <td>1.1</td>\n",
       "      <td>93.994</td>\n",
       "      <td>-36.4</td>\n",
       "      <td>4.857</td>\n",
       "      <td>5191.0</td>\n",
       "      <td>no</td>\n",
       "    </tr>\n",
       "    <tr>\n",
       "      <th>2</th>\n",
       "      <td>37</td>\n",
       "      <td>services</td>\n",
       "      <td>married</td>\n",
       "      <td>high.school</td>\n",
       "      <td>no</td>\n",
       "      <td>yes</td>\n",
       "      <td>no</td>\n",
       "      <td>telephone</td>\n",
       "      <td>may</td>\n",
       "      <td>mon</td>\n",
       "      <td>...</td>\n",
       "      <td>1</td>\n",
       "      <td>999</td>\n",
       "      <td>0</td>\n",
       "      <td>nonexistent</td>\n",
       "      <td>1.1</td>\n",
       "      <td>93.994</td>\n",
       "      <td>-36.4</td>\n",
       "      <td>4.857</td>\n",
       "      <td>5191.0</td>\n",
       "      <td>no</td>\n",
       "    </tr>\n",
       "    <tr>\n",
       "      <th>3</th>\n",
       "      <td>40</td>\n",
       "      <td>admin.</td>\n",
       "      <td>married</td>\n",
       "      <td>basic.6y</td>\n",
       "      <td>no</td>\n",
       "      <td>no</td>\n",
       "      <td>no</td>\n",
       "      <td>telephone</td>\n",
       "      <td>may</td>\n",
       "      <td>mon</td>\n",
       "      <td>...</td>\n",
       "      <td>1</td>\n",
       "      <td>999</td>\n",
       "      <td>0</td>\n",
       "      <td>nonexistent</td>\n",
       "      <td>1.1</td>\n",
       "      <td>93.994</td>\n",
       "      <td>-36.4</td>\n",
       "      <td>4.857</td>\n",
       "      <td>5191.0</td>\n",
       "      <td>no</td>\n",
       "    </tr>\n",
       "    <tr>\n",
       "      <th>4</th>\n",
       "      <td>56</td>\n",
       "      <td>services</td>\n",
       "      <td>married</td>\n",
       "      <td>high.school</td>\n",
       "      <td>no</td>\n",
       "      <td>no</td>\n",
       "      <td>yes</td>\n",
       "      <td>telephone</td>\n",
       "      <td>may</td>\n",
       "      <td>mon</td>\n",
       "      <td>...</td>\n",
       "      <td>1</td>\n",
       "      <td>999</td>\n",
       "      <td>0</td>\n",
       "      <td>nonexistent</td>\n",
       "      <td>1.1</td>\n",
       "      <td>93.994</td>\n",
       "      <td>-36.4</td>\n",
       "      <td>4.857</td>\n",
       "      <td>5191.0</td>\n",
       "      <td>no</td>\n",
       "    </tr>\n",
       "  </tbody>\n",
       "</table>\n",
       "<p>5 rows × 21 columns</p>\n",
       "</div>"
      ],
      "text/plain": [
       "   age        job  marital    education  default housing loan    contact  \\\n",
       "0   56  housemaid  married     basic.4y       no      no   no  telephone   \n",
       "1   57   services  married  high.school  unknown      no   no  telephone   \n",
       "2   37   services  married  high.school       no     yes   no  telephone   \n",
       "3   40     admin.  married     basic.6y       no      no   no  telephone   \n",
       "4   56   services  married  high.school       no      no  yes  telephone   \n",
       "\n",
       "  month day_of_week  ...  campaign  pdays  previous     poutcome emp.var.rate  \\\n",
       "0   may         mon  ...         1    999         0  nonexistent          1.1   \n",
       "1   may         mon  ...         1    999         0  nonexistent          1.1   \n",
       "2   may         mon  ...         1    999         0  nonexistent          1.1   \n",
       "3   may         mon  ...         1    999         0  nonexistent          1.1   \n",
       "4   may         mon  ...         1    999         0  nonexistent          1.1   \n",
       "\n",
       "   cons.price.idx  cons.conf.idx  euribor3m  nr.employed   y  \n",
       "0          93.994          -36.4      4.857       5191.0  no  \n",
       "1          93.994          -36.4      4.857       5191.0  no  \n",
       "2          93.994          -36.4      4.857       5191.0  no  \n",
       "3          93.994          -36.4      4.857       5191.0  no  \n",
       "4          93.994          -36.4      4.857       5191.0  no  \n",
       "\n",
       "[5 rows x 21 columns]"
      ]
     },
     "execution_count": 3,
     "metadata": {},
     "output_type": "execute_result"
    }
   ],
   "source": [
    "bank.head()"
   ]
  },
  {
   "cell_type": "code",
   "execution_count": 4,
   "metadata": {},
   "outputs": [
    {
     "data": {
      "text/html": [
       "<div>\n",
       "<style scoped>\n",
       "    .dataframe tbody tr th:only-of-type {\n",
       "        vertical-align: middle;\n",
       "    }\n",
       "\n",
       "    .dataframe tbody tr th {\n",
       "        vertical-align: top;\n",
       "    }\n",
       "\n",
       "    .dataframe thead th {\n",
       "        text-align: right;\n",
       "    }\n",
       "</style>\n",
       "<table border=\"1\" class=\"dataframe\">\n",
       "  <thead>\n",
       "    <tr style=\"text-align: right;\">\n",
       "      <th></th>\n",
       "      <th>age</th>\n",
       "      <th>job</th>\n",
       "      <th>marital</th>\n",
       "      <th>education</th>\n",
       "      <th>default</th>\n",
       "      <th>housing</th>\n",
       "      <th>loan</th>\n",
       "      <th>contact</th>\n",
       "      <th>month</th>\n",
       "      <th>day_of_week</th>\n",
       "      <th>...</th>\n",
       "      <th>campaign</th>\n",
       "      <th>pdays</th>\n",
       "      <th>previous</th>\n",
       "      <th>poutcome</th>\n",
       "      <th>emp.var.rate</th>\n",
       "      <th>cons.price.idx</th>\n",
       "      <th>cons.conf.idx</th>\n",
       "      <th>euribor3m</th>\n",
       "      <th>nr.employed</th>\n",
       "      <th>y</th>\n",
       "    </tr>\n",
       "  </thead>\n",
       "  <tbody>\n",
       "    <tr>\n",
       "      <th>41183</th>\n",
       "      <td>73</td>\n",
       "      <td>retired</td>\n",
       "      <td>married</td>\n",
       "      <td>professional.course</td>\n",
       "      <td>no</td>\n",
       "      <td>yes</td>\n",
       "      <td>no</td>\n",
       "      <td>cellular</td>\n",
       "      <td>nov</td>\n",
       "      <td>fri</td>\n",
       "      <td>...</td>\n",
       "      <td>1</td>\n",
       "      <td>999</td>\n",
       "      <td>0</td>\n",
       "      <td>nonexistent</td>\n",
       "      <td>-1.1</td>\n",
       "      <td>94.767</td>\n",
       "      <td>-50.8</td>\n",
       "      <td>1.028</td>\n",
       "      <td>4963.6</td>\n",
       "      <td>yes</td>\n",
       "    </tr>\n",
       "    <tr>\n",
       "      <th>41184</th>\n",
       "      <td>46</td>\n",
       "      <td>blue-collar</td>\n",
       "      <td>married</td>\n",
       "      <td>professional.course</td>\n",
       "      <td>no</td>\n",
       "      <td>no</td>\n",
       "      <td>no</td>\n",
       "      <td>cellular</td>\n",
       "      <td>nov</td>\n",
       "      <td>fri</td>\n",
       "      <td>...</td>\n",
       "      <td>1</td>\n",
       "      <td>999</td>\n",
       "      <td>0</td>\n",
       "      <td>nonexistent</td>\n",
       "      <td>-1.1</td>\n",
       "      <td>94.767</td>\n",
       "      <td>-50.8</td>\n",
       "      <td>1.028</td>\n",
       "      <td>4963.6</td>\n",
       "      <td>no</td>\n",
       "    </tr>\n",
       "    <tr>\n",
       "      <th>41185</th>\n",
       "      <td>56</td>\n",
       "      <td>retired</td>\n",
       "      <td>married</td>\n",
       "      <td>university.degree</td>\n",
       "      <td>no</td>\n",
       "      <td>yes</td>\n",
       "      <td>no</td>\n",
       "      <td>cellular</td>\n",
       "      <td>nov</td>\n",
       "      <td>fri</td>\n",
       "      <td>...</td>\n",
       "      <td>2</td>\n",
       "      <td>999</td>\n",
       "      <td>0</td>\n",
       "      <td>nonexistent</td>\n",
       "      <td>-1.1</td>\n",
       "      <td>94.767</td>\n",
       "      <td>-50.8</td>\n",
       "      <td>1.028</td>\n",
       "      <td>4963.6</td>\n",
       "      <td>no</td>\n",
       "    </tr>\n",
       "    <tr>\n",
       "      <th>41186</th>\n",
       "      <td>44</td>\n",
       "      <td>technician</td>\n",
       "      <td>married</td>\n",
       "      <td>professional.course</td>\n",
       "      <td>no</td>\n",
       "      <td>no</td>\n",
       "      <td>no</td>\n",
       "      <td>cellular</td>\n",
       "      <td>nov</td>\n",
       "      <td>fri</td>\n",
       "      <td>...</td>\n",
       "      <td>1</td>\n",
       "      <td>999</td>\n",
       "      <td>0</td>\n",
       "      <td>nonexistent</td>\n",
       "      <td>-1.1</td>\n",
       "      <td>94.767</td>\n",
       "      <td>-50.8</td>\n",
       "      <td>1.028</td>\n",
       "      <td>4963.6</td>\n",
       "      <td>yes</td>\n",
       "    </tr>\n",
       "    <tr>\n",
       "      <th>41187</th>\n",
       "      <td>74</td>\n",
       "      <td>retired</td>\n",
       "      <td>married</td>\n",
       "      <td>professional.course</td>\n",
       "      <td>no</td>\n",
       "      <td>yes</td>\n",
       "      <td>no</td>\n",
       "      <td>cellular</td>\n",
       "      <td>nov</td>\n",
       "      <td>fri</td>\n",
       "      <td>...</td>\n",
       "      <td>3</td>\n",
       "      <td>999</td>\n",
       "      <td>1</td>\n",
       "      <td>failure</td>\n",
       "      <td>-1.1</td>\n",
       "      <td>94.767</td>\n",
       "      <td>-50.8</td>\n",
       "      <td>1.028</td>\n",
       "      <td>4963.6</td>\n",
       "      <td>no</td>\n",
       "    </tr>\n",
       "  </tbody>\n",
       "</table>\n",
       "<p>5 rows × 21 columns</p>\n",
       "</div>"
      ],
      "text/plain": [
       "       age          job  marital            education default housing loan  \\\n",
       "41183   73      retired  married  professional.course      no     yes   no   \n",
       "41184   46  blue-collar  married  professional.course      no      no   no   \n",
       "41185   56      retired  married    university.degree      no     yes   no   \n",
       "41186   44   technician  married  professional.course      no      no   no   \n",
       "41187   74      retired  married  professional.course      no     yes   no   \n",
       "\n",
       "        contact month day_of_week  ...  campaign  pdays  previous  \\\n",
       "41183  cellular   nov         fri  ...         1    999         0   \n",
       "41184  cellular   nov         fri  ...         1    999         0   \n",
       "41185  cellular   nov         fri  ...         2    999         0   \n",
       "41186  cellular   nov         fri  ...         1    999         0   \n",
       "41187  cellular   nov         fri  ...         3    999         1   \n",
       "\n",
       "          poutcome emp.var.rate  cons.price.idx  cons.conf.idx  euribor3m  \\\n",
       "41183  nonexistent         -1.1          94.767          -50.8      1.028   \n",
       "41184  nonexistent         -1.1          94.767          -50.8      1.028   \n",
       "41185  nonexistent         -1.1          94.767          -50.8      1.028   \n",
       "41186  nonexistent         -1.1          94.767          -50.8      1.028   \n",
       "41187      failure         -1.1          94.767          -50.8      1.028   \n",
       "\n",
       "       nr.employed    y  \n",
       "41183       4963.6  yes  \n",
       "41184       4963.6   no  \n",
       "41185       4963.6   no  \n",
       "41186       4963.6  yes  \n",
       "41187       4963.6   no  \n",
       "\n",
       "[5 rows x 21 columns]"
      ]
     },
     "execution_count": 4,
     "metadata": {},
     "output_type": "execute_result"
    }
   ],
   "source": [
    "bank.tail()"
   ]
  },
  {
   "cell_type": "markdown",
   "metadata": {},
   "source": [
    "# Exploratory Data Analysis"
   ]
  },
  {
   "cell_type": "code",
   "execution_count": 5,
   "metadata": {},
   "outputs": [
    {
     "name": "stdout",
     "output_type": "stream",
     "text": [
      "<class 'pandas.core.frame.DataFrame'>\n",
      "RangeIndex: 41188 entries, 0 to 41187\n",
      "Data columns (total 21 columns):\n",
      " #   Column          Non-Null Count  Dtype  \n",
      "---  ------          --------------  -----  \n",
      " 0   age             41188 non-null  int64  \n",
      " 1   job             41188 non-null  object \n",
      " 2   marital         41188 non-null  object \n",
      " 3   education       41188 non-null  object \n",
      " 4   default         41188 non-null  object \n",
      " 5   housing         41188 non-null  object \n",
      " 6   loan            41188 non-null  object \n",
      " 7   contact         41188 non-null  object \n",
      " 8   month           41188 non-null  object \n",
      " 9   day_of_week     41188 non-null  object \n",
      " 10  duration        41188 non-null  int64  \n",
      " 11  campaign        41188 non-null  int64  \n",
      " 12  pdays           41188 non-null  int64  \n",
      " 13  previous        41188 non-null  int64  \n",
      " 14  poutcome        41188 non-null  object \n",
      " 15  emp.var.rate    41188 non-null  float64\n",
      " 16  cons.price.idx  41188 non-null  float64\n",
      " 17  cons.conf.idx   41188 non-null  float64\n",
      " 18  euribor3m       41188 non-null  float64\n",
      " 19  nr.employed     41188 non-null  float64\n",
      " 20  y               41188 non-null  object \n",
      "dtypes: float64(5), int64(5), object(11)\n",
      "memory usage: 6.6+ MB\n"
     ]
    }
   ],
   "source": [
    "# checking for null values and data types\n",
    "bank.info()"
   ]
  },
  {
   "cell_type": "raw",
   "metadata": {},
   "source": [
    "There are both factor and numerical data types and no null values"
   ]
  },
  {
   "cell_type": "code",
   "execution_count": 6,
   "metadata": {},
   "outputs": [
    {
     "data": {
      "text/plain": [
       "age                   0\n",
       "job                   0\n",
       "marital               0\n",
       "education             0\n",
       "default               0\n",
       "housing               0\n",
       "loan                  0\n",
       "contact               0\n",
       "month                 0\n",
       "day_of_week           0\n",
       "duration              4\n",
       "campaign              0\n",
       "pdays                15\n",
       "previous          35563\n",
       "poutcome              0\n",
       "emp.var.rate          0\n",
       "cons.price.idx        0\n",
       "cons.conf.idx         0\n",
       "euribor3m             0\n",
       "nr.employed           0\n",
       "y                     0\n",
       "dtype: int64"
      ]
     },
     "execution_count": 6,
     "metadata": {},
     "output_type": "execute_result"
    }
   ],
   "source": [
    "# checking for zeroes\n",
    "bank[bank==0].count()"
   ]
  },
  {
   "cell_type": "raw",
   "metadata": {},
   "source": [
    "duration = 0 means the client has not been contacted. Therefore it is valid zero\n",
    "pdays= 0 means that the client has been contacted the same day. Therefore it is a valid zero\n",
    "previous= 0 has 35563 zeros out of 41188 i.e ~86% data is null. Therefore it can considered as a singularity"
   ]
  },
  {
   "cell_type": "code",
   "execution_count": 7,
   "metadata": {},
   "outputs": [],
   "source": [
    "# splititng target variable from dataset\n",
    "target=bank.pop('y')"
   ]
  },
  {
   "cell_type": "code",
   "execution_count": 8,
   "metadata": {},
   "outputs": [
    {
     "name": "stdout",
     "output_type": "stream",
     "text": [
      "no     36548\n",
      "yes     4640\n",
      "Name: y, dtype: int64\n"
     ]
    },
    {
     "data": {
      "text/plain": [
       "<matplotlib.axes._subplots.AxesSubplot at 0xed70afbac0>"
      ]
     },
     "execution_count": 8,
     "metadata": {},
     "output_type": "execute_result"
    },
    {
     "data": {
      "image/png": "[encoded data removed]",
      "text/plain": [
       "<Figure size 432x288 with 1 Axes>"
      ]
     },
     "metadata": {
      "needs_background": "light"
     },
     "output_type": "display_data"
    }
   ],
   "source": [
    "# Getting data count of y variable\n",
    "print(target.value_counts())\n",
    "target.value_counts().plot(kind='bar')"
   ]
  },
  {
   "cell_type": "raw",
   "metadata": {},
   "source": [
    "We see that people who have not subscribed is almost 8 times of people who have subscribed"
   ]
  },
  {
   "cell_type": "code",
   "execution_count": 9,
   "metadata": {},
   "outputs": [],
   "source": [
    "# converting categorical target to numerical\n",
    "target[target=='yes']=1\n",
    "target[target=='no']=0\n",
    "target=target.astype(int)"
   ]
  },
  {
   "cell_type": "code",
   "execution_count": 10,
   "metadata": {},
   "outputs": [
    {
     "data": {
      "text/html": [
       "<div>\n",
       "<style scoped>\n",
       "    .dataframe tbody tr th:only-of-type {\n",
       "        vertical-align: middle;\n",
       "    }\n",
       "\n",
       "    .dataframe tbody tr th {\n",
       "        vertical-align: top;\n",
       "    }\n",
       "\n",
       "    .dataframe thead th {\n",
       "        text-align: right;\n",
       "    }\n",
       "</style>\n",
       "<table border=\"1\" class=\"dataframe\">\n",
       "  <thead>\n",
       "    <tr style=\"text-align: right;\">\n",
       "      <th></th>\n",
       "      <th>age</th>\n",
       "      <th>duration</th>\n",
       "      <th>campaign</th>\n",
       "      <th>pdays</th>\n",
       "      <th>previous</th>\n",
       "      <th>emp.var.rate</th>\n",
       "      <th>cons.price.idx</th>\n",
       "      <th>cons.conf.idx</th>\n",
       "      <th>euribor3m</th>\n",
       "      <th>nr.employed</th>\n",
       "    </tr>\n",
       "  </thead>\n",
       "  <tbody>\n",
       "    <tr>\n",
       "      <th>count</th>\n",
       "      <td>41188.00000</td>\n",
       "      <td>41188.000000</td>\n",
       "      <td>41188.000000</td>\n",
       "      <td>41188.000000</td>\n",
       "      <td>41188.000000</td>\n",
       "      <td>41188.000000</td>\n",
       "      <td>41188.000000</td>\n",
       "      <td>41188.000000</td>\n",
       "      <td>41188.000000</td>\n",
       "      <td>41188.000000</td>\n",
       "    </tr>\n",
       "    <tr>\n",
       "      <th>mean</th>\n",
       "      <td>40.02406</td>\n",
       "      <td>258.285010</td>\n",
       "      <td>2.567593</td>\n",
       "      <td>962.475454</td>\n",
       "      <td>0.172963</td>\n",
       "      <td>0.081886</td>\n",
       "      <td>93.575664</td>\n",
       "      <td>-40.502600</td>\n",
       "      <td>3.621291</td>\n",
       "      <td>5167.035911</td>\n",
       "    </tr>\n",
       "    <tr>\n",
       "      <th>std</th>\n",
       "      <td>10.42125</td>\n",
       "      <td>259.279249</td>\n",
       "      <td>2.770014</td>\n",
       "      <td>186.910907</td>\n",
       "      <td>0.494901</td>\n",
       "      <td>1.570960</td>\n",
       "      <td>0.578840</td>\n",
       "      <td>4.628198</td>\n",
       "      <td>1.734447</td>\n",
       "      <td>72.251528</td>\n",
       "    </tr>\n",
       "    <tr>\n",
       "      <th>min</th>\n",
       "      <td>17.00000</td>\n",
       "      <td>0.000000</td>\n",
       "      <td>1.000000</td>\n",
       "      <td>0.000000</td>\n",
       "      <td>0.000000</td>\n",
       "      <td>-3.400000</td>\n",
       "      <td>92.201000</td>\n",
       "      <td>-50.800000</td>\n",
       "      <td>0.634000</td>\n",
       "      <td>4963.600000</td>\n",
       "    </tr>\n",
       "    <tr>\n",
       "      <th>25%</th>\n",
       "      <td>32.00000</td>\n",
       "      <td>102.000000</td>\n",
       "      <td>1.000000</td>\n",
       "      <td>999.000000</td>\n",
       "      <td>0.000000</td>\n",
       "      <td>-1.800000</td>\n",
       "      <td>93.075000</td>\n",
       "      <td>-42.700000</td>\n",
       "      <td>1.344000</td>\n",
       "      <td>5099.100000</td>\n",
       "    </tr>\n",
       "    <tr>\n",
       "      <th>50%</th>\n",
       "      <td>38.00000</td>\n",
       "      <td>180.000000</td>\n",
       "      <td>2.000000</td>\n",
       "      <td>999.000000</td>\n",
       "      <td>0.000000</td>\n",
       "      <td>1.100000</td>\n",
       "      <td>93.749000</td>\n",
       "      <td>-41.800000</td>\n",
       "      <td>4.857000</td>\n",
       "      <td>5191.000000</td>\n",
       "    </tr>\n",
       "    <tr>\n",
       "      <th>75%</th>\n",
       "      <td>47.00000</td>\n",
       "      <td>319.000000</td>\n",
       "      <td>3.000000</td>\n",
       "      <td>999.000000</td>\n",
       "      <td>0.000000</td>\n",
       "      <td>1.400000</td>\n",
       "      <td>93.994000</td>\n",
       "      <td>-36.400000</td>\n",
       "      <td>4.961000</td>\n",
       "      <td>5228.100000</td>\n",
       "    </tr>\n",
       "    <tr>\n",
       "      <th>max</th>\n",
       "      <td>98.00000</td>\n",
       "      <td>4918.000000</td>\n",
       "      <td>56.000000</td>\n",
       "      <td>999.000000</td>\n",
       "      <td>7.000000</td>\n",
       "      <td>1.400000</td>\n",
       "      <td>94.767000</td>\n",
       "      <td>-26.900000</td>\n",
       "      <td>5.045000</td>\n",
       "      <td>5228.100000</td>\n",
       "    </tr>\n",
       "  </tbody>\n",
       "</table>\n",
       "</div>"
      ],
      "text/plain": [
       "               age      duration      campaign         pdays      previous  \\\n",
       "count  41188.00000  41188.000000  41188.000000  41188.000000  41188.000000   \n",
       "mean      40.02406    258.285010      2.567593    962.475454      0.172963   \n",
       "std       10.42125    259.279249      2.770014    186.910907      0.494901   \n",
       "min       17.00000      0.000000      1.000000      0.000000      0.000000   \n",
       "25%       32.00000    102.000000      1.000000    999.000000      0.000000   \n",
       "50%       38.00000    180.000000      2.000000    999.000000      0.000000   \n",
       "75%       47.00000    319.000000      3.000000    999.000000      0.000000   \n",
       "max       98.00000   4918.000000     56.000000    999.000000      7.000000   \n",
       "\n",
       "       emp.var.rate  cons.price.idx  cons.conf.idx     euribor3m   nr.employed  \n",
       "count  41188.000000    41188.000000   41188.000000  41188.000000  41188.000000  \n",
       "mean       0.081886       93.575664     -40.502600      3.621291   5167.035911  \n",
       "std        1.570960        0.578840       4.628198      1.734447     72.251528  \n",
       "min       -3.400000       92.201000     -50.800000      0.634000   4963.600000  \n",
       "25%       -1.800000       93.075000     -42.700000      1.344000   5099.100000  \n",
       "50%        1.100000       93.749000     -41.800000      4.857000   5191.000000  \n",
       "75%        1.400000       93.994000     -36.400000      4.961000   5228.100000  \n",
       "max        1.400000       94.767000     -26.900000      5.045000   5228.100000  "
      ]
     },
     "execution_count": 10,
     "metadata": {},
     "output_type": "execute_result"
    }
   ],
   "source": [
    "# splitting data based on datatypes\n",
    "data_num=bank.select_dtypes(exclude='object')\n",
    "data_num.describe()"
   ]
  },
  {
   "cell_type": "markdown",
   "metadata": {},
   "source": [
    "## Primary analysis of categorical Features"
   ]
  },
  {
   "cell_type": "code",
   "execution_count": 11,
   "metadata": {},
   "outputs": [
    {
     "data": {
      "text/html": [
       "<div>\n",
       "<style scoped>\n",
       "    .dataframe tbody tr th:only-of-type {\n",
       "        vertical-align: middle;\n",
       "    }\n",
       "\n",
       "    .dataframe tbody tr th {\n",
       "        vertical-align: top;\n",
       "    }\n",
       "\n",
       "    .dataframe thead th {\n",
       "        text-align: right;\n",
       "    }\n",
       "</style>\n",
       "<table border=\"1\" class=\"dataframe\">\n",
       "  <thead>\n",
       "    <tr style=\"text-align: right;\">\n",
       "      <th></th>\n",
       "      <th>job</th>\n",
       "      <th>marital</th>\n",
       "      <th>education</th>\n",
       "      <th>default</th>\n",
       "      <th>housing</th>\n",
       "      <th>loan</th>\n",
       "      <th>contact</th>\n",
       "      <th>month</th>\n",
       "      <th>day_of_week</th>\n",
       "      <th>poutcome</th>\n",
       "    </tr>\n",
       "  </thead>\n",
       "  <tbody>\n",
       "    <tr>\n",
       "      <th>count</th>\n",
       "      <td>41188</td>\n",
       "      <td>41188</td>\n",
       "      <td>41188</td>\n",
       "      <td>41188</td>\n",
       "      <td>41188</td>\n",
       "      <td>41188</td>\n",
       "      <td>41188</td>\n",
       "      <td>41188</td>\n",
       "      <td>41188</td>\n",
       "      <td>41188</td>\n",
       "    </tr>\n",
       "    <tr>\n",
       "      <th>unique</th>\n",
       "      <td>12</td>\n",
       "      <td>4</td>\n",
       "      <td>8</td>\n",
       "      <td>3</td>\n",
       "      <td>3</td>\n",
       "      <td>3</td>\n",
       "      <td>2</td>\n",
       "      <td>10</td>\n",
       "      <td>5</td>\n",
       "      <td>3</td>\n",
       "    </tr>\n",
       "    <tr>\n",
       "      <th>top</th>\n",
       "      <td>admin.</td>\n",
       "      <td>married</td>\n",
       "      <td>university.degree</td>\n",
       "      <td>no</td>\n",
       "      <td>yes</td>\n",
       "      <td>no</td>\n",
       "      <td>cellular</td>\n",
       "      <td>may</td>\n",
       "      <td>thu</td>\n",
       "      <td>nonexistent</td>\n",
       "    </tr>\n",
       "    <tr>\n",
       "      <th>freq</th>\n",
       "      <td>10422</td>\n",
       "      <td>24928</td>\n",
       "      <td>12168</td>\n",
       "      <td>32588</td>\n",
       "      <td>21576</td>\n",
       "      <td>33950</td>\n",
       "      <td>26144</td>\n",
       "      <td>13769</td>\n",
       "      <td>8623</td>\n",
       "      <td>35563</td>\n",
       "    </tr>\n",
       "  </tbody>\n",
       "</table>\n",
       "</div>"
      ],
      "text/plain": [
       "           job  marital          education default housing   loan   contact  \\\n",
       "count    41188    41188              41188   41188   41188  41188     41188   \n",
       "unique      12        4                  8       3       3      3         2   \n",
       "top     admin.  married  university.degree      no     yes     no  cellular   \n",
       "freq     10422    24928              12168   32588   21576  33950     26144   \n",
       "\n",
       "        month day_of_week     poutcome  \n",
       "count   41188       41188        41188  \n",
       "unique     10           5            3  \n",
       "top       may         thu  nonexistent  \n",
       "freq    13769        8623        35563  "
      ]
     },
     "execution_count": 11,
     "metadata": {},
     "output_type": "execute_result"
    }
   ],
   "source": [
    "data_cat=bank.select_dtypes(include='object')\n",
    "data_cat.describe()"
   ]
  },
  {
   "cell_type": "raw",
   "metadata": {},
   "source": [
    "we see that people with degree qualification have been contacted more"
   ]
  },
  {
   "cell_type": "code",
   "execution_count": 12,
   "metadata": {},
   "outputs": [
    {
     "data": {
      "text/plain": [
       "<matplotlib.axes._subplots.AxesSubplot at 0xed71253790>"
      ]
     },
     "execution_count": 12,
     "metadata": {},
     "output_type": "execute_result"
    },
    {
     "data": {
      "image/png": "[encoded data removed]",
      "text/plain": [
       "<Figure size 720x360 with 1 Axes>"
      ]
     },
     "metadata": {
      "needs_background": "light"
     },
     "output_type": "display_data"
    }
   ],
   "source": [
    "\n",
    "pd.crosstab(data_cat.job,target).plot(kind='bar',figsize=(10,5))"
   ]
  },
  {
   "cell_type": "markdown",
   "metadata": {},
   "source": [
    "form above graph  we see that people with admin,blue_collar and technician jobs have subscribed very less"
   ]
  },
  {
   "cell_type": "code",
   "execution_count": 13,
   "metadata": {},
   "outputs": [
    {
     "data": {
      "text/plain": [
       "<matplotlib.axes._subplots.AxesSubplot at 0xed719b83a0>"
      ]
     },
     "execution_count": 13,
     "metadata": {},
     "output_type": "execute_result"
    },
    {
     "data": {
      "image/png": "[encoded data removed]",
      "text/plain": [
       "<Figure size 432x288 with 1 Axes>"
      ]
     },
     "metadata": {
      "needs_background": "light"
     },
     "output_type": "display_data"
    }
   ],
   "source": [
    "pd.crosstab(data_cat.education,target[target==1]).plot(kind='bar')"
   ]
  },
  {
   "cell_type": "markdown",
   "metadata": {},
   "source": [
    "We see from above chart that peoplt with high degree have subscribed more"
   ]
  },
  {
   "cell_type": "code",
   "execution_count": 14,
   "metadata": {},
   "outputs": [
    {
     "data": {
      "text/plain": [
       "([<matplotlib.patches.Wedge at 0xed71a79340>,\n",
       "  <matplotlib.patches.Wedge at 0xed71a797f0>,\n",
       "  <matplotlib.patches.Wedge at 0xed71a79c70>,\n",
       "  <matplotlib.patches.Wedge at 0xed71a88130>,\n",
       "  <matplotlib.patches.Wedge at 0xed71a885b0>,\n",
       "  <matplotlib.patches.Wedge at 0xed71a88a30>,\n",
       "  <matplotlib.patches.Wedge at 0xed71a88eb0>,\n",
       "  <matplotlib.patches.Wedge at 0xed71a95370>,\n",
       "  <matplotlib.patches.Wedge at 0xed71a957f0>,\n",
       "  <matplotlib.patches.Wedge at 0xed71a95c70>],\n",
       " [Text(0.547115235087131, 0.9542876503107193, 'may'),\n",
       "  Text(-0.9685119477195762, 0.5215214349616258, 'jul'),\n",
       "  Text(-0.9521521031827198, -0.5508233586230012, 'aug'),\n",
       "  Text(-0.185538703128984, -1.0842395444002284, 'jun'),\n",
       "  Text(0.573968588808484, -0.9383816169667849, 'nov'),\n",
       "  Text(0.960934275978496, -0.5353553186900115, 'apr'),\n",
       "  Text(1.0650447970602024, -0.2750992189283579, 'oct'),\n",
       "  Text(1.0868920558453878, -0.16930935869049457, 'sep'),\n",
       "  Text(1.0973513325296063, -0.07628927182440225, 'mar'),\n",
       "  Text(1.0998940144194014, -0.015269480815467293, 'dec')])"
      ]
     },
     "execution_count": 14,
     "metadata": {},
     "output_type": "execute_result"
    },
    {
     "data": {
      "image/png": "[encoded data removed]",
      "text/plain": [
       "<Figure size 504x504 with 1 Axes>"
      ]
     },
     "metadata": {},
     "output_type": "display_data"
    }
   ],
   "source": [
    "sizes=data_cat.month.value_counts()\n",
    "plt.figure(figsize=(7,7))\n",
    "plt.pie(sizes,labels=sizes.index)"
   ]
  },
  {
   "cell_type": "markdown",
   "metadata": {},
   "source": [
    "from above chart we find that people were contacted more in the month of may "
   ]
  },
  {
   "cell_type": "markdown",
   "metadata": {},
   "source": [
    "### EDA continued"
   ]
  },
  {
   "cell_type": "code",
   "execution_count": 15,
   "metadata": {},
   "outputs": [
    {
     "data": {
      "text/plain": [
       "array([[<matplotlib.axes._subplots.AxesSubplot object at 0x000000ED71AAFC40>,\n",
       "        <matplotlib.axes._subplots.AxesSubplot object at 0x000000ED719CA9A0>,\n",
       "        <matplotlib.axes._subplots.AxesSubplot object at 0x000000ED71AF9220>],\n",
       "       [<matplotlib.axes._subplots.AxesSubplot object at 0x000000ED71B26670>,\n",
       "        <matplotlib.axes._subplots.AxesSubplot object at 0x000000ED71B52AC0>,\n",
       "        <matplotlib.axes._subplots.AxesSubplot object at 0x000000ED71B80E50>],\n",
       "       [<matplotlib.axes._subplots.AxesSubplot object at 0x000000ED71B80F40>,\n",
       "        <matplotlib.axes._subplots.AxesSubplot object at 0x000000ED71BB8490>,\n",
       "        <matplotlib.axes._subplots.AxesSubplot object at 0x000000ED71C11CA0>],\n",
       "       [<matplotlib.axes._subplots.AxesSubplot object at 0x000000ED71C4B130>,\n",
       "        <matplotlib.axes._subplots.AxesSubplot object at 0x000000ED71C784C0>,\n",
       "        <matplotlib.axes._subplots.AxesSubplot object at 0x000000ED71C96AC0>]],\n",
       "      dtype=object)"
      ]
     },
     "execution_count": 15,
     "metadata": {},
     "output_type": "execute_result"
    },
    {
     "data": {
      "image/png": "[encoded data removed]",
      "text/plain": [
       "<Figure size 1152x1440 with 12 Axes>"
      ]
     },
     "metadata": {
      "needs_background": "light"
     },
     "output_type": "display_data"
    }
   ],
   "source": [
    "# checking for normality\n",
    "data_num.hist(figsize=(16, 20), bins=50, xlabelsize=8, ylabelsize=8)"
   ]
  },
  {
   "cell_type": "raw",
   "metadata": {},
   "source": [
    "By visualizing we see that age, campaign and duration are not normally distributed"
   ]
  },
  {
   "cell_type": "code",
   "execution_count": 16,
   "metadata": {},
   "outputs": [
    {
     "data": {
      "text/html": [
       "<div>\n",
       "<style scoped>\n",
       "    .dataframe tbody tr th:only-of-type {\n",
       "        vertical-align: middle;\n",
       "    }\n",
       "\n",
       "    .dataframe tbody tr th {\n",
       "        vertical-align: top;\n",
       "    }\n",
       "\n",
       "    .dataframe thead th {\n",
       "        text-align: right;\n",
       "    }\n",
       "</style>\n",
       "<table border=\"1\" class=\"dataframe\">\n",
       "  <thead>\n",
       "    <tr style=\"text-align: right;\">\n",
       "      <th></th>\n",
       "      <th>age</th>\n",
       "      <th>duration</th>\n",
       "      <th>campaign</th>\n",
       "      <th>pdays</th>\n",
       "      <th>previous</th>\n",
       "      <th>emp.var.rate</th>\n",
       "      <th>cons.price.idx</th>\n",
       "      <th>cons.conf.idx</th>\n",
       "      <th>euribor3m</th>\n",
       "      <th>nr.employed</th>\n",
       "    </tr>\n",
       "  </thead>\n",
       "  <tbody>\n",
       "    <tr>\n",
       "      <th>age</th>\n",
       "      <td>1.000000</td>\n",
       "      <td>-0.000866</td>\n",
       "      <td>0.004594</td>\n",
       "      <td>-0.034369</td>\n",
       "      <td>0.024365</td>\n",
       "      <td>-0.000371</td>\n",
       "      <td>0.000857</td>\n",
       "      <td>0.129372</td>\n",
       "      <td>0.010767</td>\n",
       "      <td>-0.017725</td>\n",
       "    </tr>\n",
       "    <tr>\n",
       "      <th>duration</th>\n",
       "      <td>-0.000866</td>\n",
       "      <td>1.000000</td>\n",
       "      <td>-0.071699</td>\n",
       "      <td>-0.047577</td>\n",
       "      <td>0.020640</td>\n",
       "      <td>-0.027968</td>\n",
       "      <td>0.005312</td>\n",
       "      <td>-0.008173</td>\n",
       "      <td>-0.032897</td>\n",
       "      <td>-0.044703</td>\n",
       "    </tr>\n",
       "    <tr>\n",
       "      <th>campaign</th>\n",
       "      <td>0.004594</td>\n",
       "      <td>-0.071699</td>\n",
       "      <td>1.000000</td>\n",
       "      <td>0.052584</td>\n",
       "      <td>-0.079141</td>\n",
       "      <td>0.150754</td>\n",
       "      <td>0.127836</td>\n",
       "      <td>-0.013733</td>\n",
       "      <td>0.135133</td>\n",
       "      <td>0.144095</td>\n",
       "    </tr>\n",
       "    <tr>\n",
       "      <th>pdays</th>\n",
       "      <td>-0.034369</td>\n",
       "      <td>-0.047577</td>\n",
       "      <td>0.052584</td>\n",
       "      <td>1.000000</td>\n",
       "      <td>-0.587514</td>\n",
       "      <td>0.271004</td>\n",
       "      <td>0.078889</td>\n",
       "      <td>-0.091342</td>\n",
       "      <td>0.296899</td>\n",
       "      <td>0.372605</td>\n",
       "    </tr>\n",
       "    <tr>\n",
       "      <th>previous</th>\n",
       "      <td>0.024365</td>\n",
       "      <td>0.020640</td>\n",
       "      <td>-0.079141</td>\n",
       "      <td>-0.587514</td>\n",
       "      <td>1.000000</td>\n",
       "      <td>-0.420489</td>\n",
       "      <td>-0.203130</td>\n",
       "      <td>-0.050936</td>\n",
       "      <td>-0.454494</td>\n",
       "      <td>-0.501333</td>\n",
       "    </tr>\n",
       "    <tr>\n",
       "      <th>emp.var.rate</th>\n",
       "      <td>-0.000371</td>\n",
       "      <td>-0.027968</td>\n",
       "      <td>0.150754</td>\n",
       "      <td>0.271004</td>\n",
       "      <td>-0.420489</td>\n",
       "      <td>1.000000</td>\n",
       "      <td>0.775334</td>\n",
       "      <td>0.196041</td>\n",
       "      <td>0.972245</td>\n",
       "      <td>0.906970</td>\n",
       "    </tr>\n",
       "    <tr>\n",
       "      <th>cons.price.idx</th>\n",
       "      <td>0.000857</td>\n",
       "      <td>0.005312</td>\n",
       "      <td>0.127836</td>\n",
       "      <td>0.078889</td>\n",
       "      <td>-0.203130</td>\n",
       "      <td>0.775334</td>\n",
       "      <td>1.000000</td>\n",
       "      <td>0.058986</td>\n",
       "      <td>0.688230</td>\n",
       "      <td>0.522034</td>\n",
       "    </tr>\n",
       "    <tr>\n",
       "      <th>cons.conf.idx</th>\n",
       "      <td>0.129372</td>\n",
       "      <td>-0.008173</td>\n",
       "      <td>-0.013733</td>\n",
       "      <td>-0.091342</td>\n",
       "      <td>-0.050936</td>\n",
       "      <td>0.196041</td>\n",
       "      <td>0.058986</td>\n",
       "      <td>1.000000</td>\n",
       "      <td>0.277686</td>\n",
       "      <td>0.100513</td>\n",
       "    </tr>\n",
       "    <tr>\n",
       "      <th>euribor3m</th>\n",
       "      <td>0.010767</td>\n",
       "      <td>-0.032897</td>\n",
       "      <td>0.135133</td>\n",
       "      <td>0.296899</td>\n",
       "      <td>-0.454494</td>\n",
       "      <td>0.972245</td>\n",
       "      <td>0.688230</td>\n",
       "      <td>0.277686</td>\n",
       "      <td>1.000000</td>\n",
       "      <td>0.945154</td>\n",
       "    </tr>\n",
       "    <tr>\n",
       "      <th>nr.employed</th>\n",
       "      <td>-0.017725</td>\n",
       "      <td>-0.044703</td>\n",
       "      <td>0.144095</td>\n",
       "      <td>0.372605</td>\n",
       "      <td>-0.501333</td>\n",
       "      <td>0.906970</td>\n",
       "      <td>0.522034</td>\n",
       "      <td>0.100513</td>\n",
       "      <td>0.945154</td>\n",
       "      <td>1.000000</td>\n",
       "    </tr>\n",
       "  </tbody>\n",
       "</table>\n",
       "</div>"
      ],
      "text/plain": [
       "                     age  duration  campaign     pdays  previous  \\\n",
       "age             1.000000 -0.000866  0.004594 -0.034369  0.024365   \n",
       "duration       -0.000866  1.000000 -0.071699 -0.047577  0.020640   \n",
       "campaign        0.004594 -0.071699  1.000000  0.052584 -0.079141   \n",
       "pdays          -0.034369 -0.047577  0.052584  1.000000 -0.587514   \n",
       "previous        0.024365  0.020640 -0.079141 -0.587514  1.000000   \n",
       "emp.var.rate   -0.000371 -0.027968  0.150754  0.271004 -0.420489   \n",
       "cons.price.idx  0.000857  0.005312  0.127836  0.078889 -0.203130   \n",
       "cons.conf.idx   0.129372 -0.008173 -0.013733 -0.091342 -0.050936   \n",
       "euribor3m       0.010767 -0.032897  0.135133  0.296899 -0.454494   \n",
       "nr.employed    -0.017725 -0.044703  0.144095  0.372605 -0.501333   \n",
       "\n",
       "                emp.var.rate  cons.price.idx  cons.conf.idx  euribor3m  \\\n",
       "age                -0.000371        0.000857       0.129372   0.010767   \n",
       "duration           -0.027968        0.005312      -0.008173  -0.032897   \n",
       "campaign            0.150754        0.127836      -0.013733   0.135133   \n",
       "pdays               0.271004        0.078889      -0.091342   0.296899   \n",
       "previous           -0.420489       -0.203130      -0.050936  -0.454494   \n",
       "emp.var.rate        1.000000        0.775334       0.196041   0.972245   \n",
       "cons.price.idx      0.775334        1.000000       0.058986   0.688230   \n",
       "cons.conf.idx       0.196041        0.058986       1.000000   0.277686   \n",
       "euribor3m           0.972245        0.688230       0.277686   1.000000   \n",
       "nr.employed         0.906970        0.522034       0.100513   0.945154   \n",
       "\n",
       "                nr.employed  \n",
       "age               -0.017725  \n",
       "duration          -0.044703  \n",
       "campaign           0.144095  \n",
       "pdays              0.372605  \n",
       "previous          -0.501333  \n",
       "emp.var.rate       0.906970  \n",
       "cons.price.idx     0.522034  \n",
       "cons.conf.idx      0.100513  \n",
       "euribor3m          0.945154  \n",
       "nr.employed        1.000000  "
      ]
     },
     "execution_count": 16,
     "metadata": {},
     "output_type": "execute_result"
    }
   ],
   "source": [
    "# checking for correlation\n",
    "cor=data_num.corr()\n",
    "cor"
   ]
  },
  {
   "cell_type": "code",
   "execution_count": 17,
   "metadata": {},
   "outputs": [
    {
     "data": {
      "text/plain": [
       "<matplotlib.axes._subplots.AxesSubplot at 0xed7212c3a0>"
      ]
     },
     "execution_count": 17,
     "metadata": {},
     "output_type": "execute_result"
    },
    {
     "data": {
      "image/png": "[encoded data removed]",
      "text/plain": [
       "<Figure size 1152x648 with 2 Axes>"
      ]
     },
     "metadata": {
      "needs_background": "light"
     },
     "output_type": "display_data"
    }
   ],
   "source": [
    "#plotting heatmap\n",
    "plt.figure(figsize=(16,9))\n",
    "sns.heatmap(cor[(cor>=0.5) | (cor<=-0.5)],vmin=-1,vmax=1,annot=True,square=False)"
   ]
  },
  {
   "cell_type": "raw",
   "metadata": {},
   "source": [
    "from heatmap we see that emp.var.rate shows high correlation with nr.employed,euribor3m and cons.price.idx\n",
    "emp.var.rate therefore can be subsequently removed"
   ]
  },
  {
   "cell_type": "code",
   "execution_count": 18,
   "metadata": {},
   "outputs": [
    {
     "data": {
      "text/html": [
       "<div>\n",
       "<style scoped>\n",
       "    .dataframe tbody tr th:only-of-type {\n",
       "        vertical-align: middle;\n",
       "    }\n",
       "\n",
       "    .dataframe tbody tr th {\n",
       "        vertical-align: top;\n",
       "    }\n",
       "\n",
       "    .dataframe thead th {\n",
       "        text-align: right;\n",
       "    }\n",
       "</style>\n",
       "<table border=\"1\" class=\"dataframe\">\n",
       "  <thead>\n",
       "    <tr style=\"text-align: right;\">\n",
       "      <th></th>\n",
       "      <th>job_blue-collar</th>\n",
       "      <th>job_entrepreneur</th>\n",
       "      <th>job_housemaid</th>\n",
       "      <th>job_management</th>\n",
       "      <th>job_retired</th>\n",
       "      <th>job_self-employed</th>\n",
       "      <th>job_services</th>\n",
       "      <th>job_student</th>\n",
       "      <th>job_technician</th>\n",
       "      <th>job_unemployed</th>\n",
       "      <th>...</th>\n",
       "      <th>month_may</th>\n",
       "      <th>month_nov</th>\n",
       "      <th>month_oct</th>\n",
       "      <th>month_sep</th>\n",
       "      <th>day_of_week_mon</th>\n",
       "      <th>day_of_week_thu</th>\n",
       "      <th>day_of_week_tue</th>\n",
       "      <th>day_of_week_wed</th>\n",
       "      <th>poutcome_nonexistent</th>\n",
       "      <th>poutcome_success</th>\n",
       "    </tr>\n",
       "  </thead>\n",
       "  <tbody>\n",
       "    <tr>\n",
       "      <th>count</th>\n",
       "      <td>41188.000000</td>\n",
       "      <td>41188.000000</td>\n",
       "      <td>41188.000000</td>\n",
       "      <td>41188.000000</td>\n",
       "      <td>41188.000000</td>\n",
       "      <td>41188.000000</td>\n",
       "      <td>41188.000000</td>\n",
       "      <td>41188.000000</td>\n",
       "      <td>41188.000000</td>\n",
       "      <td>41188.000000</td>\n",
       "      <td>...</td>\n",
       "      <td>41188.000000</td>\n",
       "      <td>41188.000000</td>\n",
       "      <td>41188.000000</td>\n",
       "      <td>41188.000000</td>\n",
       "      <td>41188.000000</td>\n",
       "      <td>41188.000000</td>\n",
       "      <td>41188.000000</td>\n",
       "      <td>41188.000000</td>\n",
       "      <td>41188.000000</td>\n",
       "      <td>41188.000000</td>\n",
       "    </tr>\n",
       "    <tr>\n",
       "      <th>mean</th>\n",
       "      <td>0.224677</td>\n",
       "      <td>0.035350</td>\n",
       "      <td>0.025736</td>\n",
       "      <td>0.070992</td>\n",
       "      <td>0.041760</td>\n",
       "      <td>0.034500</td>\n",
       "      <td>0.096363</td>\n",
       "      <td>0.021244</td>\n",
       "      <td>0.163713</td>\n",
       "      <td>0.024619</td>\n",
       "      <td>...</td>\n",
       "      <td>0.334296</td>\n",
       "      <td>0.099568</td>\n",
       "      <td>0.017432</td>\n",
       "      <td>0.013839</td>\n",
       "      <td>0.206711</td>\n",
       "      <td>0.209357</td>\n",
       "      <td>0.196416</td>\n",
       "      <td>0.197485</td>\n",
       "      <td>0.863431</td>\n",
       "      <td>0.033335</td>\n",
       "    </tr>\n",
       "    <tr>\n",
       "      <th>std</th>\n",
       "      <td>0.417375</td>\n",
       "      <td>0.184665</td>\n",
       "      <td>0.158348</td>\n",
       "      <td>0.256814</td>\n",
       "      <td>0.200042</td>\n",
       "      <td>0.182513</td>\n",
       "      <td>0.295092</td>\n",
       "      <td>0.144199</td>\n",
       "      <td>0.370019</td>\n",
       "      <td>0.154962</td>\n",
       "      <td>...</td>\n",
       "      <td>0.471750</td>\n",
       "      <td>0.299427</td>\n",
       "      <td>0.130877</td>\n",
       "      <td>0.116824</td>\n",
       "      <td>0.404951</td>\n",
       "      <td>0.406855</td>\n",
       "      <td>0.397292</td>\n",
       "      <td>0.398106</td>\n",
       "      <td>0.343396</td>\n",
       "      <td>0.179512</td>\n",
       "    </tr>\n",
       "    <tr>\n",
       "      <th>min</th>\n",
       "      <td>0.000000</td>\n",
       "      <td>0.000000</td>\n",
       "      <td>0.000000</td>\n",
       "      <td>0.000000</td>\n",
       "      <td>0.000000</td>\n",
       "      <td>0.000000</td>\n",
       "      <td>0.000000</td>\n",
       "      <td>0.000000</td>\n",
       "      <td>0.000000</td>\n",
       "      <td>0.000000</td>\n",
       "      <td>...</td>\n",
       "      <td>0.000000</td>\n",
       "      <td>0.000000</td>\n",
       "      <td>0.000000</td>\n",
       "      <td>0.000000</td>\n",
       "      <td>0.000000</td>\n",
       "      <td>0.000000</td>\n",
       "      <td>0.000000</td>\n",
       "      <td>0.000000</td>\n",
       "      <td>0.000000</td>\n",
       "      <td>0.000000</td>\n",
       "    </tr>\n",
       "    <tr>\n",
       "      <th>25%</th>\n",
       "      <td>0.000000</td>\n",
       "      <td>0.000000</td>\n",
       "      <td>0.000000</td>\n",
       "      <td>0.000000</td>\n",
       "      <td>0.000000</td>\n",
       "      <td>0.000000</td>\n",
       "      <td>0.000000</td>\n",
       "      <td>0.000000</td>\n",
       "      <td>0.000000</td>\n",
       "      <td>0.000000</td>\n",
       "      <td>...</td>\n",
       "      <td>0.000000</td>\n",
       "      <td>0.000000</td>\n",
       "      <td>0.000000</td>\n",
       "      <td>0.000000</td>\n",
       "      <td>0.000000</td>\n",
       "      <td>0.000000</td>\n",
       "      <td>0.000000</td>\n",
       "      <td>0.000000</td>\n",
       "      <td>1.000000</td>\n",
       "      <td>0.000000</td>\n",
       "    </tr>\n",
       "    <tr>\n",
       "      <th>50%</th>\n",
       "      <td>0.000000</td>\n",
       "      <td>0.000000</td>\n",
       "      <td>0.000000</td>\n",
       "      <td>0.000000</td>\n",
       "      <td>0.000000</td>\n",
       "      <td>0.000000</td>\n",
       "      <td>0.000000</td>\n",
       "      <td>0.000000</td>\n",
       "      <td>0.000000</td>\n",
       "      <td>0.000000</td>\n",
       "      <td>...</td>\n",
       "      <td>0.000000</td>\n",
       "      <td>0.000000</td>\n",
       "      <td>0.000000</td>\n",
       "      <td>0.000000</td>\n",
       "      <td>0.000000</td>\n",
       "      <td>0.000000</td>\n",
       "      <td>0.000000</td>\n",
       "      <td>0.000000</td>\n",
       "      <td>1.000000</td>\n",
       "      <td>0.000000</td>\n",
       "    </tr>\n",
       "    <tr>\n",
       "      <th>75%</th>\n",
       "      <td>0.000000</td>\n",
       "      <td>0.000000</td>\n",
       "      <td>0.000000</td>\n",
       "      <td>0.000000</td>\n",
       "      <td>0.000000</td>\n",
       "      <td>0.000000</td>\n",
       "      <td>0.000000</td>\n",
       "      <td>0.000000</td>\n",
       "      <td>0.000000</td>\n",
       "      <td>0.000000</td>\n",
       "      <td>...</td>\n",
       "      <td>1.000000</td>\n",
       "      <td>0.000000</td>\n",
       "      <td>0.000000</td>\n",
       "      <td>0.000000</td>\n",
       "      <td>0.000000</td>\n",
       "      <td>0.000000</td>\n",
       "      <td>0.000000</td>\n",
       "      <td>0.000000</td>\n",
       "      <td>1.000000</td>\n",
       "      <td>0.000000</td>\n",
       "    </tr>\n",
       "    <tr>\n",
       "      <th>max</th>\n",
       "      <td>1.000000</td>\n",
       "      <td>1.000000</td>\n",
       "      <td>1.000000</td>\n",
       "      <td>1.000000</td>\n",
       "      <td>1.000000</td>\n",
       "      <td>1.000000</td>\n",
       "      <td>1.000000</td>\n",
       "      <td>1.000000</td>\n",
       "      <td>1.000000</td>\n",
       "      <td>1.000000</td>\n",
       "      <td>...</td>\n",
       "      <td>1.000000</td>\n",
       "      <td>1.000000</td>\n",
       "      <td>1.000000</td>\n",
       "      <td>1.000000</td>\n",
       "      <td>1.000000</td>\n",
       "      <td>1.000000</td>\n",
       "      <td>1.000000</td>\n",
       "      <td>1.000000</td>\n",
       "      <td>1.000000</td>\n",
       "      <td>1.000000</td>\n",
       "    </tr>\n",
       "  </tbody>\n",
       "</table>\n",
       "<p>8 rows × 43 columns</p>\n",
       "</div>"
      ],
      "text/plain": [
       "       job_blue-collar  job_entrepreneur  job_housemaid  job_management  \\\n",
       "count     41188.000000      41188.000000   41188.000000    41188.000000   \n",
       "mean          0.224677          0.035350       0.025736        0.070992   \n",
       "std           0.417375          0.184665       0.158348        0.256814   \n",
       "min           0.000000          0.000000       0.000000        0.000000   \n",
       "25%           0.000000          0.000000       0.000000        0.000000   \n",
       "50%           0.000000          0.000000       0.000000        0.000000   \n",
       "75%           0.000000          0.000000       0.000000        0.000000   \n",
       "max           1.000000          1.000000       1.000000        1.000000   \n",
       "\n",
       "        job_retired  job_self-employed  job_services   job_student  \\\n",
       "count  41188.000000       41188.000000  41188.000000  41188.000000   \n",
       "mean       0.041760           0.034500      0.096363      0.021244   \n",
       "std        0.200042           0.182513      0.295092      0.144199   \n",
       "min        0.000000           0.000000      0.000000      0.000000   \n",
       "25%        0.000000           0.000000      0.000000      0.000000   \n",
       "50%        0.000000           0.000000      0.000000      0.000000   \n",
       "75%        0.000000           0.000000      0.000000      0.000000   \n",
       "max        1.000000           1.000000      1.000000      1.000000   \n",
       "\n",
       "       job_technician  job_unemployed  ...     month_may     month_nov  \\\n",
       "count    41188.000000    41188.000000  ...  41188.000000  41188.000000   \n",
       "mean         0.163713        0.024619  ...      0.334296      0.099568   \n",
       "std          0.370019        0.154962  ...      0.471750      0.299427   \n",
       "min          0.000000        0.000000  ...      0.000000      0.000000   \n",
       "25%          0.000000        0.000000  ...      0.000000      0.000000   \n",
       "50%          0.000000        0.000000  ...      0.000000      0.000000   \n",
       "75%          0.000000        0.000000  ...      1.000000      0.000000   \n",
       "max          1.000000        1.000000  ...      1.000000      1.000000   \n",
       "\n",
       "          month_oct     month_sep  day_of_week_mon  day_of_week_thu  \\\n",
       "count  41188.000000  41188.000000     41188.000000     41188.000000   \n",
       "mean       0.017432      0.013839         0.206711         0.209357   \n",
       "std        0.130877      0.116824         0.404951         0.406855   \n",
       "min        0.000000      0.000000         0.000000         0.000000   \n",
       "25%        0.000000      0.000000         0.000000         0.000000   \n",
       "50%        0.000000      0.000000         0.000000         0.000000   \n",
       "75%        0.000000      0.000000         0.000000         0.000000   \n",
       "max        1.000000      1.000000         1.000000         1.000000   \n",
       "\n",
       "       day_of_week_tue  day_of_week_wed  poutcome_nonexistent  \\\n",
       "count     41188.000000     41188.000000          41188.000000   \n",
       "mean          0.196416         0.197485              0.863431   \n",
       "std           0.397292         0.398106              0.343396   \n",
       "min           0.000000         0.000000              0.000000   \n",
       "25%           0.000000         0.000000              1.000000   \n",
       "50%           0.000000         0.000000              1.000000   \n",
       "75%           0.000000         0.000000              1.000000   \n",
       "max           1.000000         1.000000              1.000000   \n",
       "\n",
       "       poutcome_success  \n",
       "count      41188.000000  \n",
       "mean           0.033335  \n",
       "std            0.179512  \n",
       "min            0.000000  \n",
       "25%            0.000000  \n",
       "50%            0.000000  \n",
       "75%            0.000000  \n",
       "max            1.000000  \n",
       "\n",
       "[8 rows x 43 columns]"
      ]
     },
     "execution_count": 18,
     "metadata": {},
     "output_type": "execute_result"
    }
   ],
   "source": [
    "# getting dummy variables for categorical data(one hot encoding)\n",
    "cat_dummy=pd.get_dummies(data_cat,drop_first=True)\n",
    "cat_dummy.describe()"
   ]
  },
  {
   "cell_type": "code",
   "execution_count": 19,
   "metadata": {},
   "outputs": [
    {
     "data": {
      "text/plain": [
       "(41188, 53)"
      ]
     },
     "execution_count": 19,
     "metadata": {},
     "output_type": "execute_result"
    }
   ],
   "source": [
    "# concatenating data \n",
    "raw_data=pd.concat([data_num,cat_dummy],axis=1)\n",
    "raw_data.shape"
   ]
  },
  {
   "cell_type": "code",
   "execution_count": 20,
   "metadata": {},
   "outputs": [
    {
     "name": "stdout",
     "output_type": "stream",
     "text": [
      "(28831, 53)\n",
      "(28831,)\n",
      "(12357, 53)\n",
      "(12357,)\n"
     ]
    }
   ],
   "source": [
    "#Splitting the data\n",
    "trainx,testx,trainy,testy=train_test_split(raw_data,target,test_size=0.3)\n",
    "print(trainx.shape)\n",
    "print(trainy.shape)\n",
    "print(testx.shape)\n",
    "print(testy.shape)"
   ]
  },
  {
   "cell_type": "code",
   "execution_count": 21,
   "metadata": {
    "scrolled": true
   },
   "outputs": [
    {
     "name": "stdout",
     "output_type": "stream",
     "text": [
      "[[10681   287]\n",
      " [  776   613]]\n",
      "              precision    recall  f1-score   support\n",
      "\n",
      "           0       0.93      0.97      0.95     10968\n",
      "           1       0.68      0.44      0.54      1389\n",
      "\n",
      "    accuracy                           0.91     12357\n",
      "   macro avg       0.81      0.71      0.74     12357\n",
      "weighted avg       0.90      0.91      0.91     12357\n",
      "\n",
      "0.9139758841142672\n"
     ]
    }
   ],
   "source": [
    "# creating a randomforest model with default parameters\n",
    "m_rf=RandomForestClassifier().fit(trainx,trainy)\n",
    "p_rf=m_rf.predict(testx)\n",
    "print(confusion_matrix(testy,p_rf))\n",
    "print(classification_report(testy,p_rf))\n",
    "print(accuracy_score(testy,p_rf))"
   ]
  },
  {
   "cell_type": "raw",
   "metadata": {},
   "source": [
    "we get accuracy_score of 91% with default random forest model"
   ]
  },
  {
   "cell_type": "code",
   "execution_count": 22,
   "metadata": {},
   "outputs": [
    {
     "data": {
      "text/html": [
       "<div>\n",
       "<style scoped>\n",
       "    .dataframe tbody tr th:only-of-type {\n",
       "        vertical-align: middle;\n",
       "    }\n",
       "\n",
       "    .dataframe tbody tr th {\n",
       "        vertical-align: top;\n",
       "    }\n",
       "\n",
       "    .dataframe thead th {\n",
       "        text-align: right;\n",
       "    }\n",
       "</style>\n",
       "<table border=\"1\" class=\"dataframe\">\n",
       "  <thead>\n",
       "    <tr style=\"text-align: right;\">\n",
       "      <th></th>\n",
       "      <th>age</th>\n",
       "      <th>duration</th>\n",
       "      <th>campaign</th>\n",
       "      <th>pdays</th>\n",
       "      <th>previous</th>\n",
       "      <th>emp.var.rate</th>\n",
       "      <th>cons.price.idx</th>\n",
       "      <th>cons.conf.idx</th>\n",
       "      <th>euribor3m</th>\n",
       "      <th>nr.employed</th>\n",
       "    </tr>\n",
       "  </thead>\n",
       "  <tbody>\n",
       "    <tr>\n",
       "      <th>count</th>\n",
       "      <td>4.118800e+04</td>\n",
       "      <td>4.118800e+04</td>\n",
       "      <td>4.118800e+04</td>\n",
       "      <td>4.118800e+04</td>\n",
       "      <td>4.118800e+04</td>\n",
       "      <td>4.118800e+04</td>\n",
       "      <td>4.118800e+04</td>\n",
       "      <td>4.118800e+04</td>\n",
       "      <td>4.118800e+04</td>\n",
       "      <td>4.118800e+04</td>\n",
       "    </tr>\n",
       "    <tr>\n",
       "      <th>mean</th>\n",
       "      <td>2.846557e-16</td>\n",
       "      <td>-3.170967e-16</td>\n",
       "      <td>1.845337e-14</td>\n",
       "      <td>9.515119e-14</td>\n",
       "      <td>2.196991e-13</td>\n",
       "      <td>-1.851020e-13</td>\n",
       "      <td>-5.933520e-14</td>\n",
       "      <td>-6.842191e-14</td>\n",
       "      <td>-6.864230e-14</td>\n",
       "      <td>-1.181213e-13</td>\n",
       "    </tr>\n",
       "    <tr>\n",
       "      <th>std</th>\n",
       "      <td>1.000012e+00</td>\n",
       "      <td>1.000012e+00</td>\n",
       "      <td>1.000012e+00</td>\n",
       "      <td>1.000012e+00</td>\n",
       "      <td>1.000012e+00</td>\n",
       "      <td>1.000012e+00</td>\n",
       "      <td>1.000012e+00</td>\n",
       "      <td>1.000012e+00</td>\n",
       "      <td>1.000012e+00</td>\n",
       "      <td>1.000012e+00</td>\n",
       "    </tr>\n",
       "    <tr>\n",
       "      <th>min</th>\n",
       "      <td>-2.209365e+00</td>\n",
       "      <td>-9.961775e-01</td>\n",
       "      <td>-5.659220e-01</td>\n",
       "      <td>-5.149443e+00</td>\n",
       "      <td>-3.494943e-01</td>\n",
       "      <td>-2.216433e+00</td>\n",
       "      <td>-2.374889e+00</td>\n",
       "      <td>-2.224953e+00</td>\n",
       "      <td>-1.722351e+00</td>\n",
       "      <td>-2.815697e+00</td>\n",
       "    </tr>\n",
       "    <tr>\n",
       "      <th>25%</th>\n",
       "      <td>-7.699804e-01</td>\n",
       "      <td>-6.027745e-01</td>\n",
       "      <td>-5.659220e-01</td>\n",
       "      <td>1.954139e-01</td>\n",
       "      <td>-3.494943e-01</td>\n",
       "      <td>-1.197935e+00</td>\n",
       "      <td>-8.649547e-01</td>\n",
       "      <td>-4.747909e-01</td>\n",
       "      <td>-1.312994e+00</td>\n",
       "      <td>-9.402810e-01</td>\n",
       "    </tr>\n",
       "    <tr>\n",
       "      <th>50%</th>\n",
       "      <td>-1.942267e-01</td>\n",
       "      <td>-3.019369e-01</td>\n",
       "      <td>-2.049085e-01</td>\n",
       "      <td>1.954139e-01</td>\n",
       "      <td>-3.494943e-01</td>\n",
       "      <td>6.480923e-01</td>\n",
       "      <td>2.994571e-01</td>\n",
       "      <td>-2.803284e-01</td>\n",
       "      <td>7.124599e-01</td>\n",
       "      <td>3.316799e-01</td>\n",
       "    </tr>\n",
       "    <tr>\n",
       "      <th>75%</th>\n",
       "      <td>6.694038e-01</td>\n",
       "      <td>2.341712e-01</td>\n",
       "      <td>1.561049e-01</td>\n",
       "      <td>1.954139e-01</td>\n",
       "      <td>-3.494943e-01</td>\n",
       "      <td>8.390606e-01</td>\n",
       "      <td>7.227225e-01</td>\n",
       "      <td>8.864466e-01</td>\n",
       "      <td>7.724221e-01</td>\n",
       "      <td>8.451701e-01</td>\n",
       "    </tr>\n",
       "    <tr>\n",
       "      <th>max</th>\n",
       "      <td>5.563310e+00</td>\n",
       "      <td>1.797202e+01</td>\n",
       "      <td>1.928982e+01</td>\n",
       "      <td>1.954139e-01</td>\n",
       "      <td>1.379492e+01</td>\n",
       "      <td>8.390606e-01</td>\n",
       "      <td>2.058168e+00</td>\n",
       "      <td>2.939106e+00</td>\n",
       "      <td>8.208531e-01</td>\n",
       "      <td>8.451701e-01</td>\n",
       "    </tr>\n",
       "  </tbody>\n",
       "</table>\n",
       "</div>"
      ],
      "text/plain": [
       "                age      duration      campaign         pdays      previous  \\\n",
       "count  4.118800e+04  4.118800e+04  4.118800e+04  4.118800e+04  4.118800e+04   \n",
       "mean   2.846557e-16 -3.170967e-16  1.845337e-14  9.515119e-14  2.196991e-13   \n",
       "std    1.000012e+00  1.000012e+00  1.000012e+00  1.000012e+00  1.000012e+00   \n",
       "min   -2.209365e+00 -9.961775e-01 -5.659220e-01 -5.149443e+00 -3.494943e-01   \n",
       "25%   -7.699804e-01 -6.027745e-01 -5.659220e-01  1.954139e-01 -3.494943e-01   \n",
       "50%   -1.942267e-01 -3.019369e-01 -2.049085e-01  1.954139e-01 -3.494943e-01   \n",
       "75%    6.694038e-01  2.341712e-01  1.561049e-01  1.954139e-01 -3.494943e-01   \n",
       "max    5.563310e+00  1.797202e+01  1.928982e+01  1.954139e-01  1.379492e+01   \n",
       "\n",
       "       emp.var.rate  cons.price.idx  cons.conf.idx     euribor3m   nr.employed  \n",
       "count  4.118800e+04    4.118800e+04   4.118800e+04  4.118800e+04  4.118800e+04  \n",
       "mean  -1.851020e-13   -5.933520e-14  -6.842191e-14 -6.864230e-14 -1.181213e-13  \n",
       "std    1.000012e+00    1.000012e+00   1.000012e+00  1.000012e+00  1.000012e+00  \n",
       "min   -2.216433e+00   -2.374889e+00  -2.224953e+00 -1.722351e+00 -2.815697e+00  \n",
       "25%   -1.197935e+00   -8.649547e-01  -4.747909e-01 -1.312994e+00 -9.402810e-01  \n",
       "50%    6.480923e-01    2.994571e-01  -2.803284e-01  7.124599e-01  3.316799e-01  \n",
       "75%    8.390606e-01    7.227225e-01   8.864466e-01  7.724221e-01  8.451701e-01  \n",
       "max    8.390606e-01    2.058168e+00   2.939106e+00  8.208531e-01  8.451701e-01  "
      ]
     },
     "execution_count": 22,
     "metadata": {},
     "output_type": "execute_result"
    }
   ],
   "source": [
    "# Standardizing the data using standard scalar\n",
    "s_sc=StandardScaler()\n",
    "data_num_sc=data_num.copy()\n",
    "data_num_sc.iloc[:,:]=s_sc.fit_transform(data_num_sc.iloc[:,:])\n",
    "data_num_sc.describe()"
   ]
  },
  {
   "cell_type": "code",
   "execution_count": 23,
   "metadata": {},
   "outputs": [
    {
     "data": {
      "text/plain": [
       "((28831, 53), (12357, 53), (28831,), (12357,))"
      ]
     },
     "execution_count": 23,
     "metadata": {},
     "output_type": "execute_result"
    }
   ],
   "source": [
    "# concatenating standardized data\n",
    "raw_data_sc=pd.concat([data_num_sc,cat_dummy],axis=1)\n",
    "# splititng the data\n",
    "trainx_sc,testx_sc,trainy,testy=train_test_split(raw_data_sc,target,test_size=0.3)\n",
    "trainx_sc.shape,testx_sc.shape,trainy.shape,testy.shape\n"
   ]
  },
  {
   "cell_type": "code",
   "execution_count": 24,
   "metadata": {},
   "outputs": [
    {
     "name": "stdout",
     "output_type": "stream",
     "text": [
      "[[10702   336]\n",
      " [  685   634]]\n",
      "              precision    recall  f1-score   support\n",
      "\n",
      "           0       0.94      0.97      0.95     11038\n",
      "           1       0.65      0.48      0.55      1319\n",
      "\n",
      "    accuracy                           0.92     12357\n",
      "   macro avg       0.80      0.73      0.75     12357\n",
      "weighted avg       0.91      0.92      0.91     12357\n",
      "\n",
      "0.9173747673383508\n"
     ]
    }
   ],
   "source": [
    "# building randomForest with standardized data\n",
    "m_sc_rf=RandomForestClassifier().fit(trainx_sc,trainy)\n",
    "p_sc_rf=m_sc_rf.predict(testx_sc)\n",
    "print(confusion_matrix(testy,p_sc_rf))\n",
    "print(classification_report(testy,p_sc_rf))\n",
    "print(accuracy_score(testy,p_sc_rf))"
   ]
  },
  {
   "cell_type": "raw",
   "metadata": {},
   "source": [
    "After standardizing the data with standardScalar we get an accuracy of 91%"
   ]
  },
  {
   "cell_type": "code",
   "execution_count": 25,
   "metadata": {},
   "outputs": [
    {
     "data": {
      "text/html": [
       "<div>\n",
       "<style scoped>\n",
       "    .dataframe tbody tr th:only-of-type {\n",
       "        vertical-align: middle;\n",
       "    }\n",
       "\n",
       "    .dataframe tbody tr th {\n",
       "        vertical-align: top;\n",
       "    }\n",
       "\n",
       "    .dataframe thead th {\n",
       "        text-align: right;\n",
       "    }\n",
       "</style>\n",
       "<table border=\"1\" class=\"dataframe\">\n",
       "  <thead>\n",
       "    <tr style=\"text-align: right;\">\n",
       "      <th></th>\n",
       "      <th>age</th>\n",
       "      <th>duration</th>\n",
       "      <th>campaign</th>\n",
       "      <th>pdays</th>\n",
       "      <th>previous</th>\n",
       "      <th>emp.var.rate</th>\n",
       "      <th>cons.price.idx</th>\n",
       "      <th>cons.conf.idx</th>\n",
       "      <th>euribor3m</th>\n",
       "      <th>nr.employed</th>\n",
       "    </tr>\n",
       "  </thead>\n",
       "  <tbody>\n",
       "    <tr>\n",
       "      <th>count</th>\n",
       "      <td>4.118800e+04</td>\n",
       "      <td>4.118800e+04</td>\n",
       "      <td>4.118800e+04</td>\n",
       "      <td>4.118800e+04</td>\n",
       "      <td>4.118800e+04</td>\n",
       "      <td>4.118800e+04</td>\n",
       "      <td>4.118800e+04</td>\n",
       "      <td>4.118800e+04</td>\n",
       "      <td>4.118800e+04</td>\n",
       "      <td>4.118800e+04</td>\n",
       "    </tr>\n",
       "    <tr>\n",
       "      <th>mean</th>\n",
       "      <td>2.846557e-16</td>\n",
       "      <td>-3.170967e-16</td>\n",
       "      <td>1.845337e-14</td>\n",
       "      <td>9.515119e-14</td>\n",
       "      <td>2.196991e-13</td>\n",
       "      <td>-1.851020e-13</td>\n",
       "      <td>-5.933520e-14</td>\n",
       "      <td>-6.842191e-14</td>\n",
       "      <td>-6.864230e-14</td>\n",
       "      <td>-1.181213e-13</td>\n",
       "    </tr>\n",
       "    <tr>\n",
       "      <th>std</th>\n",
       "      <td>1.000012e+00</td>\n",
       "      <td>1.000012e+00</td>\n",
       "      <td>1.000012e+00</td>\n",
       "      <td>1.000012e+00</td>\n",
       "      <td>1.000012e+00</td>\n",
       "      <td>1.000012e+00</td>\n",
       "      <td>1.000012e+00</td>\n",
       "      <td>1.000012e+00</td>\n",
       "      <td>1.000012e+00</td>\n",
       "      <td>1.000012e+00</td>\n",
       "    </tr>\n",
       "    <tr>\n",
       "      <th>min</th>\n",
       "      <td>-2.209365e+00</td>\n",
       "      <td>-9.961775e-01</td>\n",
       "      <td>-5.659220e-01</td>\n",
       "      <td>-5.149443e+00</td>\n",
       "      <td>-3.494943e-01</td>\n",
       "      <td>-2.216433e+00</td>\n",
       "      <td>-2.374889e+00</td>\n",
       "      <td>-2.224953e+00</td>\n",
       "      <td>-1.722351e+00</td>\n",
       "      <td>-2.815697e+00</td>\n",
       "    </tr>\n",
       "    <tr>\n",
       "      <th>25%</th>\n",
       "      <td>-7.699804e-01</td>\n",
       "      <td>-6.027745e-01</td>\n",
       "      <td>-5.659220e-01</td>\n",
       "      <td>1.954139e-01</td>\n",
       "      <td>-3.494943e-01</td>\n",
       "      <td>-1.197935e+00</td>\n",
       "      <td>-8.649547e-01</td>\n",
       "      <td>-4.747909e-01</td>\n",
       "      <td>-1.312994e+00</td>\n",
       "      <td>-9.402810e-01</td>\n",
       "    </tr>\n",
       "    <tr>\n",
       "      <th>50%</th>\n",
       "      <td>-1.942267e-01</td>\n",
       "      <td>-3.019369e-01</td>\n",
       "      <td>-2.049085e-01</td>\n",
       "      <td>1.954139e-01</td>\n",
       "      <td>-3.494943e-01</td>\n",
       "      <td>6.480923e-01</td>\n",
       "      <td>2.994571e-01</td>\n",
       "      <td>-2.803284e-01</td>\n",
       "      <td>7.124599e-01</td>\n",
       "      <td>3.316799e-01</td>\n",
       "    </tr>\n",
       "    <tr>\n",
       "      <th>75%</th>\n",
       "      <td>6.694038e-01</td>\n",
       "      <td>2.341712e-01</td>\n",
       "      <td>1.561049e-01</td>\n",
       "      <td>1.954139e-01</td>\n",
       "      <td>-3.494943e-01</td>\n",
       "      <td>8.390606e-01</td>\n",
       "      <td>7.227225e-01</td>\n",
       "      <td>8.864466e-01</td>\n",
       "      <td>7.724221e-01</td>\n",
       "      <td>8.451701e-01</td>\n",
       "    </tr>\n",
       "    <tr>\n",
       "      <th>max</th>\n",
       "      <td>5.563310e+00</td>\n",
       "      <td>1.797202e+01</td>\n",
       "      <td>1.928982e+01</td>\n",
       "      <td>1.954139e-01</td>\n",
       "      <td>1.379492e+01</td>\n",
       "      <td>8.390606e-01</td>\n",
       "      <td>2.058168e+00</td>\n",
       "      <td>2.939106e+00</td>\n",
       "      <td>8.208531e-01</td>\n",
       "      <td>8.451701e-01</td>\n",
       "    </tr>\n",
       "  </tbody>\n",
       "</table>\n",
       "</div>"
      ],
      "text/plain": [
       "                age      duration      campaign         pdays      previous  \\\n",
       "count  4.118800e+04  4.118800e+04  4.118800e+04  4.118800e+04  4.118800e+04   \n",
       "mean   2.846557e-16 -3.170967e-16  1.845337e-14  9.515119e-14  2.196991e-13   \n",
       "std    1.000012e+00  1.000012e+00  1.000012e+00  1.000012e+00  1.000012e+00   \n",
       "min   -2.209365e+00 -9.961775e-01 -5.659220e-01 -5.149443e+00 -3.494943e-01   \n",
       "25%   -7.699804e-01 -6.027745e-01 -5.659220e-01  1.954139e-01 -3.494943e-01   \n",
       "50%   -1.942267e-01 -3.019369e-01 -2.049085e-01  1.954139e-01 -3.494943e-01   \n",
       "75%    6.694038e-01  2.341712e-01  1.561049e-01  1.954139e-01 -3.494943e-01   \n",
       "max    5.563310e+00  1.797202e+01  1.928982e+01  1.954139e-01  1.379492e+01   \n",
       "\n",
       "       emp.var.rate  cons.price.idx  cons.conf.idx     euribor3m   nr.employed  \n",
       "count  4.118800e+04    4.118800e+04   4.118800e+04  4.118800e+04  4.118800e+04  \n",
       "mean  -1.851020e-13   -5.933520e-14  -6.842191e-14 -6.864230e-14 -1.181213e-13  \n",
       "std    1.000012e+00    1.000012e+00   1.000012e+00  1.000012e+00  1.000012e+00  \n",
       "min   -2.216433e+00   -2.374889e+00  -2.224953e+00 -1.722351e+00 -2.815697e+00  \n",
       "25%   -1.197935e+00   -8.649547e-01  -4.747909e-01 -1.312994e+00 -9.402810e-01  \n",
       "50%    6.480923e-01    2.994571e-01  -2.803284e-01  7.124599e-01  3.316799e-01  \n",
       "75%    8.390606e-01    7.227225e-01   8.864466e-01  7.724221e-01  8.451701e-01  \n",
       "max    8.390606e-01    2.058168e+00   2.939106e+00  8.208531e-01  8.451701e-01  "
      ]
     },
     "execution_count": 25,
     "metadata": {},
     "output_type": "execute_result"
    }
   ],
   "source": [
    "# Standardizing the data using minmax scaler\n",
    "mm_sc=MinMaxScaler()\n",
    "data_num_tr=data_num.copy()\n",
    "data_num_tr.iloc[:,:]=s_sc.fit_transform(data_num_tr.iloc[:,:])\n",
    "data_num_tr.describe()"
   ]
  },
  {
   "cell_type": "code",
   "execution_count": 26,
   "metadata": {},
   "outputs": [
    {
     "data": {
      "text/plain": [
       "((28831, 53), (12357, 53), (28831,), (12357,))"
      ]
     },
     "execution_count": 26,
     "metadata": {},
     "output_type": "execute_result"
    }
   ],
   "source": [
    "# concatenating standardized data\n",
    "raw_data_tr=pd.concat([data_num_tr,cat_dummy],axis=1)\n",
    "# splititng the data\n",
    "trainx_tr,testx_tr,trainy,testy=train_test_split(raw_data_tr,target,test_size=0.3)\n",
    "trainx_tr.shape,testx_tr.shape,trainy.shape,testy.shape"
   ]
  },
  {
   "cell_type": "code",
   "execution_count": 27,
   "metadata": {},
   "outputs": [
    {
     "name": "stdout",
     "output_type": "stream",
     "text": [
      "[[10622   349]\n",
      " [  733   653]]\n",
      "              precision    recall  f1-score   support\n",
      "\n",
      "           0       0.94      0.97      0.95     10971\n",
      "           1       0.65      0.47      0.55      1386\n",
      "\n",
      "    accuracy                           0.91     12357\n",
      "   macro avg       0.79      0.72      0.75     12357\n",
      "weighted avg       0.90      0.91      0.91     12357\n",
      "\n",
      "0.9124382940843246\n"
     ]
    }
   ],
   "source": [
    "# building randomForest with standardized data\n",
    "m_tr_rf=RandomForestClassifier().fit(trainx_tr,trainy)\n",
    "p_tr_rf=m_tr_rf.predict(testx_tr)\n",
    "print(confusion_matrix(testy,p_tr_rf))\n",
    "print(classification_report(testy,p_tr_rf))\n",
    "print(accuracy_score(testy,p_tr_rf))"
   ]
  },
  {
   "cell_type": "raw",
   "metadata": {},
   "source": [
    "After standardizing the data with standardScalar we get an accuracy of 92%"
   ]
  },
  {
   "cell_type": "raw",
   "metadata": {},
   "source": [
    "Comparing the three accuracies we see that minmax standardized model  performs better.\n",
    "Therefore we will use minmax standardized data  hereafter"
   ]
  },
  {
   "cell_type": "code",
   "execution_count": 28,
   "metadata": {},
   "outputs": [
    {
     "data": {
      "image/png": "[encoded data removed]",
      "text/plain": [
       "<Figure size 1152x648 with 1 Axes>"
      ]
     },
     "metadata": {
      "needs_background": "light"
     },
     "output_type": "display_data"
    }
   ],
   "source": [
    "# plotting important features\n",
    "imp_f=m_tr_rf.feature_importances_\n",
    "cols=raw_data.columns\n",
    "index=imp_f.argsort()\n",
    "plt.figure(figsize=(16,9))\n",
    "plt.barh(range(len(imp_f)),imp_f[index])\n",
    "plt.yticks(range(len(imp_f)),[cols[i] for i in index])\n",
    "plt.xlabel('Relative importance')\n",
    "plt.show()"
   ]
  },
  {
   "cell_type": "raw",
   "metadata": {},
   "source": [
    "The above graph shows the relative importance of features"
   ]
  },
  {
   "cell_type": "code",
   "execution_count": 29,
   "metadata": {
    "scrolled": true
   },
   "outputs": [
    {
     "data": {
      "text/html": [
       "<div>\n",
       "<style scoped>\n",
       "    .dataframe tbody tr th:only-of-type {\n",
       "        vertical-align: middle;\n",
       "    }\n",
       "\n",
       "    .dataframe tbody tr th {\n",
       "        vertical-align: top;\n",
       "    }\n",
       "\n",
       "    .dataframe thead th {\n",
       "        text-align: right;\n",
       "    }\n",
       "</style>\n",
       "<table border=\"1\" class=\"dataframe\">\n",
       "  <thead>\n",
       "    <tr style=\"text-align: right;\">\n",
       "      <th></th>\n",
       "      <th>poutcome_success</th>\n",
       "      <th>emp.var.rate</th>\n",
       "      <th>cons.price.idx</th>\n",
       "      <th>cons.conf.idx</th>\n",
       "      <th>pdays</th>\n",
       "      <th>campaign</th>\n",
       "      <th>nr.employed</th>\n",
       "      <th>age</th>\n",
       "      <th>euribor3m</th>\n",
       "      <th>duration</th>\n",
       "    </tr>\n",
       "  </thead>\n",
       "  <tbody>\n",
       "    <tr>\n",
       "      <th>0</th>\n",
       "      <td>0</td>\n",
       "      <td>0.648092</td>\n",
       "      <td>0.722722</td>\n",
       "      <td>0.886447</td>\n",
       "      <td>0.195414</td>\n",
       "      <td>-0.565922</td>\n",
       "      <td>0.33168</td>\n",
       "      <td>1.533034</td>\n",
       "      <td>0.71246</td>\n",
       "      <td>0.010471</td>\n",
       "    </tr>\n",
       "    <tr>\n",
       "      <th>1</th>\n",
       "      <td>0</td>\n",
       "      <td>0.648092</td>\n",
       "      <td>0.722722</td>\n",
       "      <td>0.886447</td>\n",
       "      <td>0.195414</td>\n",
       "      <td>-0.565922</td>\n",
       "      <td>0.33168</td>\n",
       "      <td>1.628993</td>\n",
       "      <td>0.71246</td>\n",
       "      <td>-0.421501</td>\n",
       "    </tr>\n",
       "    <tr>\n",
       "      <th>2</th>\n",
       "      <td>0</td>\n",
       "      <td>0.648092</td>\n",
       "      <td>0.722722</td>\n",
       "      <td>0.886447</td>\n",
       "      <td>0.195414</td>\n",
       "      <td>-0.565922</td>\n",
       "      <td>0.33168</td>\n",
       "      <td>-0.290186</td>\n",
       "      <td>0.71246</td>\n",
       "      <td>-0.124520</td>\n",
       "    </tr>\n",
       "    <tr>\n",
       "      <th>3</th>\n",
       "      <td>0</td>\n",
       "      <td>0.648092</td>\n",
       "      <td>0.722722</td>\n",
       "      <td>0.886447</td>\n",
       "      <td>0.195414</td>\n",
       "      <td>-0.565922</td>\n",
       "      <td>0.33168</td>\n",
       "      <td>-0.002309</td>\n",
       "      <td>0.71246</td>\n",
       "      <td>-0.413787</td>\n",
       "    </tr>\n",
       "    <tr>\n",
       "      <th>4</th>\n",
       "      <td>0</td>\n",
       "      <td>0.648092</td>\n",
       "      <td>0.722722</td>\n",
       "      <td>0.886447</td>\n",
       "      <td>0.195414</td>\n",
       "      <td>-0.565922</td>\n",
       "      <td>0.33168</td>\n",
       "      <td>1.533034</td>\n",
       "      <td>0.71246</td>\n",
       "      <td>0.187888</td>\n",
       "    </tr>\n",
       "  </tbody>\n",
       "</table>\n",
       "</div>"
      ],
      "text/plain": [
       "   poutcome_success  emp.var.rate  cons.price.idx  cons.conf.idx     pdays  \\\n",
       "0                 0      0.648092        0.722722       0.886447  0.195414   \n",
       "1                 0      0.648092        0.722722       0.886447  0.195414   \n",
       "2                 0      0.648092        0.722722       0.886447  0.195414   \n",
       "3                 0      0.648092        0.722722       0.886447  0.195414   \n",
       "4                 0      0.648092        0.722722       0.886447  0.195414   \n",
       "\n",
       "   campaign  nr.employed       age  euribor3m  duration  \n",
       "0 -0.565922      0.33168  1.533034    0.71246  0.010471  \n",
       "1 -0.565922      0.33168  1.628993    0.71246 -0.421501  \n",
       "2 -0.565922      0.33168 -0.290186    0.71246 -0.124520  \n",
       "3 -0.565922      0.33168 -0.002309    0.71246 -0.413787  \n",
       "4 -0.565922      0.33168  1.533034    0.71246  0.187888  "
      ]
     },
     "execution_count": 29,
     "metadata": {},
     "output_type": "execute_result"
    }
   ],
   "source": [
    "# running a model with top 10 important featues\n",
    "raw_data_imp=raw_data_tr.iloc[:,index[-10:]]\n",
    "raw_data_imp.head()"
   ]
  },
  {
   "cell_type": "code",
   "execution_count": 30,
   "metadata": {},
   "outputs": [
    {
     "name": "stdout",
     "output_type": "stream",
     "text": [
      "[[10492   486]\n",
      " [  645   734]]\n",
      "              precision    recall  f1-score   support\n",
      "\n",
      "           0       0.94      0.96      0.95     10978\n",
      "           1       0.60      0.53      0.56      1379\n",
      "\n",
      "    accuracy                           0.91     12357\n",
      "   macro avg       0.77      0.74      0.76     12357\n",
      "weighted avg       0.90      0.91      0.91     12357\n",
      "\n",
      "0.9084729303228939\n"
     ]
    }
   ],
   "source": [
    "# splititng the data\n",
    "trainx_imp,testx_imp,trainy,testy=train_test_split(raw_data_imp,target,test_size=0.3)\n",
    "# building randomForest with important features data\n",
    "m_imp=RandomForestClassifier().fit(trainx_imp,trainy)\n",
    "p_imp=m_imp.predict(testx_imp)\n",
    "print(confusion_matrix(testy,p_imp))\n",
    "print(classification_report(testy,p_imp))\n",
    "print(accuracy_score(testy,p_imp))"
   ]
  },
  {
   "cell_type": "raw",
   "metadata": {},
   "source": [
    "with top 10 features we get accuracy of 91%"
   ]
  },
  {
   "cell_type": "markdown",
   "metadata": {},
   "source": [
    "# Building supervised models\n"
   ]
  },
  {
   "cell_type": "code",
   "execution_count": 31,
   "metadata": {},
   "outputs": [
    {
     "data": {
      "text/plain": [
       "((28831, 53), (12357, 53), (28831,), (12357,))"
      ]
     },
     "execution_count": 31,
     "metadata": {},
     "output_type": "execute_result"
    }
   ],
   "source": [
    "\n",
    "#splitting the data\n",
    "trainx,testx,trainy,testy=train_test_split(raw_data_tr,target,test_size=0.3)\n",
    "trainx.shape,testx.shape,trainy.shape,testy.shape"
   ]
  },
  {
   "cell_type": "code",
   "execution_count": 33,
   "metadata": {},
   "outputs": [
    {
     "name": "stdout",
     "output_type": "stream",
     "text": [
      "[[10597   320]\n",
      " [  794   646]]\n",
      "              precision    recall  f1-score   support\n",
      "\n",
      "           0       0.93      0.97      0.95     10917\n",
      "           1       0.67      0.45      0.54      1440\n",
      "\n",
      "    accuracy                           0.91     12357\n",
      "   macro avg       0.80      0.71      0.74     12357\n",
      "weighted avg       0.90      0.91      0.90     12357\n",
      "\n",
      "0.9098486687707372\n",
      "0.5369908561928511\n"
     ]
    }
   ],
   "source": [
    "# building logistic model\n",
    "model_lm=Logit.LogisticRegression().fit(trainx,trainy)\n",
    "p_lm=model_lm.predict(testx)\n",
    "print(confusion_matrix(testy,p_lm))\n",
    "print(classification_report(testy,p_lm))\n",
    "print(accuracy_score(testy,p_lm))\n",
    "print(f1_score(testy,p_lm))"
   ]
  },
  {
   "cell_type": "code",
   "execution_count": 34,
   "metadata": {},
   "outputs": [
    {
     "name": "stdout",
     "output_type": "stream",
     "text": [
      "25 0.9049931213077608\n",
      "50 0.907825523994497\n",
      "75 0.9086347819049931\n",
      "100 0.908877559278142\n"
     ]
    }
   ],
   "source": [
    "# building adaboost model\n",
    "dt=DecisionTreeClassifier(max_depth=1)   #using 1 features i.e 1 stump for Adaboost\n",
    "for i in [25,50,75,100]:\n",
    "    model_ada=AdaBoostClassifier(dt,n_estimators=i).fit(trainx,trainy)\n",
    "    p_ada=model_ada.predict(testx)\n",
    "#    print(confusion_matrix(testy,p_ada))\n",
    "#    print(classification_report(testy,p_ada))\n",
    "    print(i,accuracy_score(testy,p_ada))"
   ]
  },
  {
   "cell_type": "raw",
   "metadata": {},
   "source": [
    "We select n_estimators=50 for future models"
   ]
  },
  {
   "cell_type": "code",
   "execution_count": 35,
   "metadata": {},
   "outputs": [
    {
     "data": {
      "text/plain": [
       "9"
      ]
     },
     "execution_count": 35,
     "metadata": {},
     "output_type": "execute_result"
    },
    {
     "data": {
      "image/png": "[encoded data removed]",
      "text/plain": [
       "<Figure size 432x288 with 1 Axes>"
      ]
     },
     "metadata": {
      "needs_background": "light"
     },
     "output_type": "display_data"
    }
   ],
   "source": [
    "# cross validation to select optimum k for knn\n",
    "NN=range(3,10,2)\n",
    "cv_scores=[]\n",
    "for k in NN:\n",
    "    model_knn=neighbors.KNeighborsClassifier(n_neighbors=k)\n",
    "    acc=cross_val_score(model_knn,trainx,trainy,cv=2,scoring='accuracy')\n",
    "    cv_scores.append(acc.mean())\n",
    "cv_scores\n",
    "plt.plot(NN,cv_scores)\n",
    "optk=NN[cv_scores.index(max(cv_scores))]\n",
    "optk"
   ]
  },
  {
   "cell_type": "raw",
   "metadata": {},
   "source": [
    "we select n_neighbors=9  for future models"
   ]
  },
  {
   "cell_type": "code",
   "execution_count": 36,
   "metadata": {},
   "outputs": [],
   "source": [
    "# cross validation to select optimum c for svm\n",
    "#log_C=np.logspace(-1,2,4)\n",
    "#cv_score=[]\n",
    "#for c in log_C:\n",
    "#    model_svm=svm.SVC(kernel='linear',C=c)\n",
    " #   accuracy=cross_val_score(model_svm,trainx,trainy,cv=2,scoring='accuracy')\n",
    "  #  cv_score.append(np.mean(accuracy))\n",
    "#cv_score\n",
    "#plt.plot(np.log(log_C),cv_score)\n",
    "#opt_C=log_C[cv_score.index(max(cv_score))]\n",
    "#opt_C"
   ]
  },
  {
   "cell_type": "code",
   "execution_count": 37,
   "metadata": {},
   "outputs": [],
   "source": [
    "#we select C=100  for future models"
   ]
  },
  {
   "cell_type": "raw",
   "metadata": {},
   "source": [
    "Since we have to check many models we make a function which takes train values and runs all models"
   ]
  },
  {
   "cell_type": "code",
   "execution_count": 38,
   "metadata": {},
   "outputs": [],
   "source": [
    "# Building a function that will run all models\n",
    "def run_model(trainx,trainy):\n",
    "    \n",
    "    \n",
    "    #Logistic Model\n",
    "    model_lm=Logit.LogisticRegression().fit(trainx,trainy)\n",
    "    \n",
    "    #Adaboost Model\n",
    "    dt=DecisionTreeClassifier(max_depth=1)   #using 1 features i.e 1 stump for Adaboost\n",
    "    model_ada=AdaBoostClassifier(dt,n_estimators=50).fit(trainx,trainy)\n",
    "        \n",
    "    #knn Model\n",
    "    model_knn=neighbors.KNeighborsClassifier(n_neighbors=9).fit(trainx,trainy)\n",
    "    #svm Model \n",
    "    model_svm=svm.SVC(kernel='linear').fit(trainx,trainy)\n",
    "    \n",
    "    return [model_lm,model_ada,model_knn,model_svm]"
   ]
  },
  {
   "cell_type": "raw",
   "metadata": {},
   "source": [
    "we again build a function to get roc plots and metrics"
   ]
  },
  {
   "cell_type": "code",
   "execution_count": 39,
   "metadata": {},
   "outputs": [],
   "source": [
    "# building funtion to plot ROC AUC curve and get metrics\n",
    "def get_results(model,testx,testy):\n",
    "    # unpacking the models\n",
    "    model_lm,model_ada,model_knn,model_svm=model\n",
    "    \n",
    "    # predicting the values\n",
    "    p_lm=model_lm.predict(testx)\n",
    "    p_ada=model_ada.predict(testx)\n",
    "    p_knn=model_knn.predict(testx)\n",
    "    p_svm=model_svm.predict(testx)\n",
    "    \n",
    "    # creating lists to store result\n",
    "    model=['Logistic','Adaboost','Knn','SVM']\n",
    "    \n",
    "    accuracy=np.round(np.array([accuracy_score(testy,p_lm),accuracy_score(testy,p_ada),\n",
    "              accuracy_score(testy,p_knn),accuracy_score(testy,p_svm)]),2)\n",
    "    \n",
    "    f1score=np.round(np.array([f1_score(testy,p_lm),f1_score(testy,p_ada),\n",
    "                               f1_score(testy,p_knn),f1_score(testy,p_svm)]),2)\n",
    "    \n",
    "    # unpacking fpr,tpr\n",
    "    fpr_lr,tpr_lr,thres_lr=roc_curve(testy,p_lm)\n",
    "    fpr_ada,tpr_ada,thres_ada=roc_curve(testy,p_ada)\n",
    "    fpr_knn,tpr_knn,thres_knn=roc_curve(testy,p_knn)\n",
    "    fpr_svm,tpr_svm,thres_svm=roc_curve(testy,p_svm)\n",
    "    \n",
    "    #getting auc\n",
    "    auc_lr=np.round(auc(fpr_lr,tpr_lr),2)\n",
    "    auc_ada=np.round(auc(fpr_ada,tpr_ada),2)\n",
    "    auc_knn=np.round(auc(fpr_knn,tpr_knn),2)\n",
    "    auc_svm=np.round(auc(fpr_svm,tpr_svm),2)\n",
    "    roc_auc=[auc_lr,auc_ada,auc_knn,auc_svm]\n",
    "\n",
    "    # getting the tpr for roc_curve which is sensitivity\n",
    "    sensitivity=np.round(np.array([tpr_lr[1],tpr_ada[1],tpr_knn[1],tpr_svm[1]]),2)\n",
    "    # getting the fpr and subtracting from 1 to get specificity\n",
    "    specificity=np.round(np.array([1-fpr_lr[1],1-fpr_ada[1],1-fpr_knn[1],1-fpr_svm[1]]),2)\n",
    "    \n",
    "    \n",
    "    results=pd.DataFrame({'model':model,'accuracy':accuracy,'f1_score':f1score,\n",
    "                          'sensitivity':sensitivity,'specificity':specificity,'ROC':roc_auc})\n",
    "    \n",
    "   # results=pd.DataFrame({'model':model,'accuracy':accuracy,\n",
    "    #                      'sensitivity':sensitivity,'specificity':specificity,'ROC':roc_auc})\n",
    "    # plotting ROC AUC\n",
    "    plt.figure(figsize=(15,7))\n",
    "    plt.plot(fpr_lr,tpr_lr,label='Logistic AUC: %0.2f'%auc_lr)\n",
    "    plt.plot(fpr_ada,tpr_ada,label='AdaBoost AUC: %0.2f'%auc_ada)\n",
    "    plt.plot(fpr_knn,tpr_knn,label='Knn AUC: %0.2f'%auc_knn)\n",
    "    plt.plot(fpr_svm,tpr_svm,label='Svm AUC: %0.2f'%auc_svm)\n",
    "    plt.xlim([0,1])\n",
    "    plt.ylim([0,1])\n",
    "    plt.xlabel('False Positive Rate')\n",
    "    plt.ylabel('True Positive Rate')\n",
    "    plt.title('ROC AUC curve')\n",
    "    plt.legend()\n",
    "    plt.show()\n",
    "    \n",
    "    \n",
    "    return results"
   ]
  },
  {
   "cell_type": "code",
   "execution_count": 40,
   "metadata": {},
   "outputs": [
    {
     "data": {
      "text/plain": [
       "16637    0\n",
       "10188    0\n",
       "32273    0\n",
       "37342    0\n",
       "32111    0\n",
       "Name: y, dtype: int32"
      ]
     },
     "execution_count": 40,
     "metadata": {},
     "output_type": "execute_result"
    }
   ],
   "source": [
    "trainy.head()"
   ]
  },
  {
   "cell_type": "code",
   "execution_count": 41,
   "metadata": {},
   "outputs": [],
   "source": [
    "# creating model\n",
    "model=run_model(trainx,trainy)"
   ]
  },
  {
   "cell_type": "code",
   "execution_count": 42,
   "metadata": {},
   "outputs": [
    {
     "data": {
      "image/png": "[encoded data removed]",
      "text/plain": [
       "<Figure size 1080x504 with 1 Axes>"
      ]
     },
     "metadata": {
      "needs_background": "light"
     },
     "output_type": "display_data"
    },
    {
     "data": {
      "text/html": [
       "<div>\n",
       "<style scoped>\n",
       "    .dataframe tbody tr th:only-of-type {\n",
       "        vertical-align: middle;\n",
       "    }\n",
       "\n",
       "    .dataframe tbody tr th {\n",
       "        vertical-align: top;\n",
       "    }\n",
       "\n",
       "    .dataframe thead th {\n",
       "        text-align: right;\n",
       "    }\n",
       "</style>\n",
       "<table border=\"1\" class=\"dataframe\">\n",
       "  <thead>\n",
       "    <tr style=\"text-align: right;\">\n",
       "      <th></th>\n",
       "      <th>model</th>\n",
       "      <th>accuracy</th>\n",
       "      <th>f1_score</th>\n",
       "      <th>sensitivity</th>\n",
       "      <th>specificity</th>\n",
       "      <th>ROC</th>\n",
       "    </tr>\n",
       "  </thead>\n",
       "  <tbody>\n",
       "    <tr>\n",
       "      <th>0</th>\n",
       "      <td>Logistic</td>\n",
       "      <td>0.91</td>\n",
       "      <td>0.54</td>\n",
       "      <td>0.45</td>\n",
       "      <td>0.97</td>\n",
       "      <td>0.71</td>\n",
       "    </tr>\n",
       "    <tr>\n",
       "      <th>1</th>\n",
       "      <td>Adaboost</td>\n",
       "      <td>0.91</td>\n",
       "      <td>0.51</td>\n",
       "      <td>0.41</td>\n",
       "      <td>0.97</td>\n",
       "      <td>0.69</td>\n",
       "    </tr>\n",
       "    <tr>\n",
       "      <th>2</th>\n",
       "      <td>Knn</td>\n",
       "      <td>0.90</td>\n",
       "      <td>0.51</td>\n",
       "      <td>0.43</td>\n",
       "      <td>0.96</td>\n",
       "      <td>0.70</td>\n",
       "    </tr>\n",
       "    <tr>\n",
       "      <th>3</th>\n",
       "      <td>SVM</td>\n",
       "      <td>0.90</td>\n",
       "      <td>0.44</td>\n",
       "      <td>0.33</td>\n",
       "      <td>0.98</td>\n",
       "      <td>0.65</td>\n",
       "    </tr>\n",
       "  </tbody>\n",
       "</table>\n",
       "</div>"
      ],
      "text/plain": [
       "      model  accuracy  f1_score  sensitivity  specificity   ROC\n",
       "0  Logistic      0.91      0.54         0.45         0.97  0.71\n",
       "1  Adaboost      0.91      0.51         0.41         0.97  0.69\n",
       "2       Knn      0.90      0.51         0.43         0.96  0.70\n",
       "3       SVM      0.90      0.44         0.33         0.98  0.65"
      ]
     },
     "execution_count": 42,
     "metadata": {},
     "output_type": "execute_result"
    }
   ],
   "source": [
    "# plotting ROC AUC curve and getting results\n",
    "result_1=get_results(model,testx,testy)\n",
    "result_1"
   ]
  },
  {
   "cell_type": "raw",
   "metadata": {},
   "source": [
    "Removing emp.var.rate feature since it has high correlation with other features"
   ]
  },
  {
   "cell_type": "code",
   "execution_count": 44,
   "metadata": {},
   "outputs": [
    {
     "data": {
      "text/plain": [
       "36546   -1.898153\n",
       "11423    0.839061\n",
       "14220    0.839061\n",
       "7546     0.648092\n",
       "25263   -0.115781\n",
       "           ...   \n",
       "40840   -0.752343\n",
       "14907    0.839061\n",
       "33856   -1.197935\n",
       "12329    0.839061\n",
       "1507     0.648092\n",
       "Name: emp.var.rate, Length: 12357, dtype: float64"
      ]
     },
     "execution_count": 44,
     "metadata": {},
     "output_type": "execute_result"
    }
   ],
   "source": [
    "trainx.pop('emp.var.rate')\n",
    "testx.pop('emp.var.rate')"
   ]
  },
  {
   "cell_type": "code",
   "execution_count": 45,
   "metadata": {},
   "outputs": [
    {
     "data": {
      "image/png": "[encoded data removed]",
      "text/plain": [
       "<Figure size 1080x504 with 1 Axes>"
      ]
     },
     "metadata": {
      "needs_background": "light"
     },
     "output_type": "display_data"
    },
    {
     "data": {
      "text/html": [
       "<div>\n",
       "<style scoped>\n",
       "    .dataframe tbody tr th:only-of-type {\n",
       "        vertical-align: middle;\n",
       "    }\n",
       "\n",
       "    .dataframe tbody tr th {\n",
       "        vertical-align: top;\n",
       "    }\n",
       "\n",
       "    .dataframe thead th {\n",
       "        text-align: right;\n",
       "    }\n",
       "</style>\n",
       "<table border=\"1\" class=\"dataframe\">\n",
       "  <thead>\n",
       "    <tr style=\"text-align: right;\">\n",
       "      <th></th>\n",
       "      <th>model</th>\n",
       "      <th>accuracy</th>\n",
       "      <th>f1_score</th>\n",
       "      <th>sensitivity</th>\n",
       "      <th>specificity</th>\n",
       "      <th>ROC</th>\n",
       "    </tr>\n",
       "  </thead>\n",
       "  <tbody>\n",
       "    <tr>\n",
       "      <th>0</th>\n",
       "      <td>Logistic</td>\n",
       "      <td>0.91</td>\n",
       "      <td>0.53</td>\n",
       "      <td>0.44</td>\n",
       "      <td>0.97</td>\n",
       "      <td>0.70</td>\n",
       "    </tr>\n",
       "    <tr>\n",
       "      <th>1</th>\n",
       "      <td>Adaboost</td>\n",
       "      <td>0.91</td>\n",
       "      <td>0.51</td>\n",
       "      <td>0.41</td>\n",
       "      <td>0.98</td>\n",
       "      <td>0.69</td>\n",
       "    </tr>\n",
       "    <tr>\n",
       "      <th>2</th>\n",
       "      <td>Knn</td>\n",
       "      <td>0.90</td>\n",
       "      <td>0.50</td>\n",
       "      <td>0.43</td>\n",
       "      <td>0.96</td>\n",
       "      <td>0.70</td>\n",
       "    </tr>\n",
       "    <tr>\n",
       "      <th>3</th>\n",
       "      <td>SVM</td>\n",
       "      <td>0.90</td>\n",
       "      <td>0.43</td>\n",
       "      <td>0.32</td>\n",
       "      <td>0.98</td>\n",
       "      <td>0.65</td>\n",
       "    </tr>\n",
       "  </tbody>\n",
       "</table>\n",
       "</div>"
      ],
      "text/plain": [
       "      model  accuracy  f1_score  sensitivity  specificity   ROC\n",
       "0  Logistic      0.91      0.53         0.44         0.97  0.70\n",
       "1  Adaboost      0.91      0.51         0.41         0.98  0.69\n",
       "2       Knn      0.90      0.50         0.43         0.96  0.70\n",
       "3       SVM      0.90      0.43         0.32         0.98  0.65"
      ]
     },
     "execution_count": 45,
     "metadata": {},
     "output_type": "execute_result"
    }
   ],
   "source": [
    "# Building model after removing variable\n",
    "model=run_model(trainx,trainy)\n",
    "# Plotting graphs & getting results\n",
    "result_2=get_results(model,testx,testy)\n",
    "result_2"
   ]
  },
  {
   "cell_type": "raw",
   "metadata": {},
   "source": [
    "Removing euribor3m feature since it has high correlation with other features"
   ]
  },
  {
   "cell_type": "code",
   "execution_count": 46,
   "metadata": {},
   "outputs": [
    {
     "data": {
      "text/plain": [
       "36546   -1.361425\n",
       "11423    0.771269\n",
       "14220    0.772999\n",
       "7546     0.716496\n",
       "25263    0.306562\n",
       "           ...   \n",
       "40840   -1.581094\n",
       "14907    0.770116\n",
       "33856   -1.349317\n",
       "12329    0.771269\n",
       "1507     0.711307\n",
       "Name: euribor3m, Length: 12357, dtype: float64"
      ]
     },
     "execution_count": 46,
     "metadata": {},
     "output_type": "execute_result"
    }
   ],
   "source": [
    "trainx.pop('euribor3m')\n",
    "testx.pop('euribor3m')"
   ]
  },
  {
   "cell_type": "code",
   "execution_count": 47,
   "metadata": {},
   "outputs": [
    {
     "data": {
      "image/png": "[encoded data removed]",
      "text/plain": [
       "<Figure size 1080x504 with 1 Axes>"
      ]
     },
     "metadata": {
      "needs_background": "light"
     },
     "output_type": "display_data"
    },
    {
     "data": {
      "text/html": [
       "<div>\n",
       "<style scoped>\n",
       "    .dataframe tbody tr th:only-of-type {\n",
       "        vertical-align: middle;\n",
       "    }\n",
       "\n",
       "    .dataframe tbody tr th {\n",
       "        vertical-align: top;\n",
       "    }\n",
       "\n",
       "    .dataframe thead th {\n",
       "        text-align: right;\n",
       "    }\n",
       "</style>\n",
       "<table border=\"1\" class=\"dataframe\">\n",
       "  <thead>\n",
       "    <tr style=\"text-align: right;\">\n",
       "      <th></th>\n",
       "      <th>model</th>\n",
       "      <th>accuracy</th>\n",
       "      <th>f1_score</th>\n",
       "      <th>sensitivity</th>\n",
       "      <th>specificity</th>\n",
       "      <th>ROC</th>\n",
       "    </tr>\n",
       "  </thead>\n",
       "  <tbody>\n",
       "    <tr>\n",
       "      <th>0</th>\n",
       "      <td>Logistic</td>\n",
       "      <td>0.91</td>\n",
       "      <td>0.53</td>\n",
       "      <td>0.44</td>\n",
       "      <td>0.97</td>\n",
       "      <td>0.71</td>\n",
       "    </tr>\n",
       "    <tr>\n",
       "      <th>1</th>\n",
       "      <td>Adaboost</td>\n",
       "      <td>0.91</td>\n",
       "      <td>0.52</td>\n",
       "      <td>0.42</td>\n",
       "      <td>0.97</td>\n",
       "      <td>0.70</td>\n",
       "    </tr>\n",
       "    <tr>\n",
       "      <th>2</th>\n",
       "      <td>Knn</td>\n",
       "      <td>0.90</td>\n",
       "      <td>0.50</td>\n",
       "      <td>0.43</td>\n",
       "      <td>0.96</td>\n",
       "      <td>0.70</td>\n",
       "    </tr>\n",
       "    <tr>\n",
       "      <th>3</th>\n",
       "      <td>SVM</td>\n",
       "      <td>0.90</td>\n",
       "      <td>0.43</td>\n",
       "      <td>0.32</td>\n",
       "      <td>0.98</td>\n",
       "      <td>0.65</td>\n",
       "    </tr>\n",
       "  </tbody>\n",
       "</table>\n",
       "</div>"
      ],
      "text/plain": [
       "      model  accuracy  f1_score  sensitivity  specificity   ROC\n",
       "0  Logistic      0.91      0.53         0.44         0.97  0.71\n",
       "1  Adaboost      0.91      0.52         0.42         0.97  0.70\n",
       "2       Knn      0.90      0.50         0.43         0.96  0.70\n",
       "3       SVM      0.90      0.43         0.32         0.98  0.65"
      ]
     },
     "execution_count": 47,
     "metadata": {},
     "output_type": "execute_result"
    }
   ],
   "source": [
    "# Building model after removing variable\n",
    "model=run_model(trainx,trainy)\n",
    "# Plotting graphs & getting results\n",
    "result_3=get_results(model,testx,testy)\n",
    "result_3"
   ]
  },
  {
   "cell_type": "code",
   "execution_count": 48,
   "metadata": {},
   "outputs": [
    {
     "data": {
      "text/plain": [
       "36546   -0.394502\n",
       "11423   -0.517923\n",
       "14220    1.649651\n",
       "7546    -0.672199\n",
       "25263   -0.209371\n",
       "           ...   \n",
       "40840    2.822146\n",
       "14907   -0.070523\n",
       "33856   -0.398359\n",
       "12329   -0.309651\n",
       "1507    -0.548778\n",
       "Name: duration, Length: 12357, dtype: float64"
      ]
     },
     "execution_count": 48,
     "metadata": {},
     "output_type": "execute_result"
    }
   ],
   "source": [
    "# removing duration as mentioned in Problem Statement\n",
    "trainx.pop('duration')\n",
    "testx.pop('duration')"
   ]
  },
  {
   "cell_type": "code",
   "execution_count": 50,
   "metadata": {},
   "outputs": [
    {
     "data": {
      "image/png": "[encoded data removed]",
      "text/plain": [
       "<Figure size 1080x504 with 1 Axes>"
      ]
     },
     "metadata": {
      "needs_background": "light"
     },
     "output_type": "display_data"
    },
    {
     "data": {
      "text/html": [
       "<div>\n",
       "<style scoped>\n",
       "    .dataframe tbody tr th:only-of-type {\n",
       "        vertical-align: middle;\n",
       "    }\n",
       "\n",
       "    .dataframe tbody tr th {\n",
       "        vertical-align: top;\n",
       "    }\n",
       "\n",
       "    .dataframe thead th {\n",
       "        text-align: right;\n",
       "    }\n",
       "</style>\n",
       "<table border=\"1\" class=\"dataframe\">\n",
       "  <thead>\n",
       "    <tr style=\"text-align: right;\">\n",
       "      <th></th>\n",
       "      <th>model</th>\n",
       "      <th>accuracy</th>\n",
       "      <th>f1_score</th>\n",
       "      <th>sensitivity</th>\n",
       "      <th>specificity</th>\n",
       "      <th>ROC</th>\n",
       "    </tr>\n",
       "  </thead>\n",
       "  <tbody>\n",
       "    <tr>\n",
       "      <th>0</th>\n",
       "      <td>Logistic</td>\n",
       "      <td>0.90</td>\n",
       "      <td>0.36</td>\n",
       "      <td>0.24</td>\n",
       "      <td>0.99</td>\n",
       "      <td>0.61</td>\n",
       "    </tr>\n",
       "    <tr>\n",
       "      <th>1</th>\n",
       "      <td>Adaboost</td>\n",
       "      <td>0.90</td>\n",
       "      <td>0.35</td>\n",
       "      <td>0.24</td>\n",
       "      <td>0.99</td>\n",
       "      <td>0.61</td>\n",
       "    </tr>\n",
       "    <tr>\n",
       "      <th>2</th>\n",
       "      <td>Knn</td>\n",
       "      <td>0.89</td>\n",
       "      <td>0.39</td>\n",
       "      <td>0.29</td>\n",
       "      <td>0.97</td>\n",
       "      <td>0.63</td>\n",
       "    </tr>\n",
       "    <tr>\n",
       "      <th>3</th>\n",
       "      <td>SVM</td>\n",
       "      <td>0.90</td>\n",
       "      <td>0.33</td>\n",
       "      <td>0.22</td>\n",
       "      <td>0.98</td>\n",
       "      <td>0.60</td>\n",
       "    </tr>\n",
       "  </tbody>\n",
       "</table>\n",
       "</div>"
      ],
      "text/plain": [
       "      model  accuracy  f1_score  sensitivity  specificity   ROC\n",
       "0  Logistic      0.90      0.36         0.24         0.99  0.61\n",
       "1  Adaboost      0.90      0.35         0.24         0.99  0.61\n",
       "2       Knn      0.89      0.39         0.29         0.97  0.63\n",
       "3       SVM      0.90      0.33         0.22         0.98  0.60"
      ]
     },
     "execution_count": 50,
     "metadata": {},
     "output_type": "execute_result"
    }
   ],
   "source": [
    "# Building model after removing variable\n",
    "model=run_model(trainx,trainy)\n",
    "# Plotting graphs & getting results\n",
    "result_4=get_results(model,testx,testy)\n",
    "result_4"
   ]
  },
  {
   "cell_type": "code",
   "execution_count": 51,
   "metadata": {},
   "outputs": [
    {
     "name": "stdout",
     "output_type": "stream",
     "text": [
      "Model with all features\n",
      "       model  accuracy  f1_score  sensitivity  specificity   ROC\n",
      "0  Logistic      0.91      0.54         0.45         0.97  0.71\n",
      "1  Adaboost      0.91      0.51         0.41         0.97  0.69\n",
      "2       Knn      0.90      0.51         0.43         0.96  0.70\n",
      "3       SVM      0.90      0.44         0.33         0.98  0.65\n",
      "\n",
      "Model with emp.var.rate feature removed\n",
      "       model  accuracy  f1_score  sensitivity  specificity   ROC\n",
      "0  Logistic      0.91      0.53         0.44         0.97  0.70\n",
      "1  Adaboost      0.91      0.51         0.41         0.98  0.69\n",
      "2       Knn      0.90      0.50         0.43         0.96  0.70\n",
      "3       SVM      0.90      0.43         0.32         0.98  0.65\n",
      "\n",
      "Model with euribor3m feature removed\n",
      "       model  accuracy  f1_score  sensitivity  specificity   ROC\n",
      "0  Logistic      0.91      0.53         0.44         0.97  0.71\n",
      "1  Adaboost      0.91      0.52         0.42         0.97  0.70\n",
      "2       Knn      0.90      0.50         0.43         0.96  0.70\n",
      "3       SVM      0.90      0.43         0.32         0.98  0.65\n",
      "\n",
      "Model with duration feature removed\n",
      "       model  accuracy  f1_score  sensitivity  specificity   ROC\n",
      "0  Logistic      0.90      0.36         0.24         0.99  0.61\n",
      "1  Adaboost      0.90      0.35         0.24         0.99  0.61\n",
      "2       Knn      0.89      0.39         0.29         0.97  0.63\n",
      "3       SVM      0.90      0.33         0.22         0.98  0.60\n"
     ]
    }
   ],
   "source": [
    "# Comparing results\n",
    "print('Model with all features\\n',result_1)\n",
    "print('\\nModel with emp.var.rate feature removed\\n',result_2)\n",
    "print('\\nModel with euribor3m feature removed\\n',result_3)\n",
    "print('\\nModel with duration feature removed\\n',result_4)"
   ]
  },
  {
   "cell_type": "raw",
   "metadata": {},
   "source": [
    "Comparing above results we see that the Logistic model with all features has the highest f1_score of 0.54 and highest ROC AUC of 0.71. Hence we consider it the best model among all"
   ]
  }
 ],
 "metadata": {
  "kernelspec": {
   "display_name": "Python 3",
   "language": "python",
   "name": "python3"
  },
  "language_info": {
   "codemirror_mode": {
    "name": "ipython",
    "version": 3
   },
   "file_extension": ".py",
   "mimetype": "text/x-python",
   "name": "python",
   "nbconvert_exporter": "python",
   "pygments_lexer": "ipython3",
   "version": "3.8.3"
  }
 },
 "nbformat": 4,
 "nbformat_minor": 4
}
